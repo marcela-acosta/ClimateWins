{
 "cells": [
  {
   "cell_type": "markdown",
   "id": "ba10672f-ae97-42ef-90a1-9104ba164630",
   "metadata": {},
   "source": [
    "# 1. Importing data and libraries"
   ]
  },
  {
   "cell_type": "code",
   "execution_count": 81,
   "id": "8c1f2390",
   "metadata": {},
   "outputs": [],
   "source": [
    "import os\n",
    "import time\n",
    "import warnings\n",
    "import numpy as np\n",
    "import pandas as pd\n",
    "import seaborn as sns\n",
    "import matplotlib.pyplot as plt\n",
    "\n",
    "# TensorFlow and Keras imports\n",
    "import tensorflow as tf\n",
    "from tensorflow.keras.models import Sequential\n",
    "from tensorflow.keras.layers import Dense, Flatten, Dropout, BatchNormalization\n",
    "from tensorflow.keras.optimizers import Adam, SGD, RMSprop, Adadelta, Adagrad, Adamax, Nadam, Ftrl\n",
    "from tensorflow.keras.callbacks import EarlyStopping, ModelCheckpoint\n",
    "from tensorflow.keras.utils import to_categorical\n",
    "\n",
    "# Scikit-learn imports\n",
    "from sklearn.preprocessing import LabelEncoder\n",
    "from sklearn.model_selection import train_test_split, GridSearchCV, RandomizedSearchCV, StratifiedKFold, cross_val_score\n",
    "from sklearn.ensemble import RandomForestClassifier\n",
    "from sklearn.metrics import accuracy_score, make_scorer\n",
    "from sklearn.tree import plot_tree\n",
    "from scipy.stats import randint\n",
    "\n",
    "# Bayesian Optimization\n",
    "from bayes_opt import BayesianOptimization\n",
    "\n",
    "# Keras layers\n",
    "from keras.layers import LeakyReLU\n",
    "\n",
    "# Set default LeakyReLU\n",
    "LeakyReLU = LeakyReLU(negative_slope=0.1)\n",
    "\n",
    "# Ignore warnings\n",
    "warnings.filterwarnings('ignore')\n",
    "\n",
    "# Data processing and other utilities\n",
    "from numpy import argmax, reshape, unique"
   ]
  },
  {
   "cell_type": "code",
   "execution_count": 82,
   "id": "49e493c9",
   "metadata": {},
   "outputs": [],
   "source": [
    "# Create a path\n",
    "path = r'/Users/marcela/Library/CloudStorage/OneDrive-Personal/CF/Machine Learning/Achievement/Data Sets'"
   ]
  },
  {
   "cell_type": "code",
   "execution_count": 83,
   "id": "3ab4839c",
   "metadata": {},
   "outputs": [],
   "source": [
    "# Delimiting columns displayed\n",
    "pd.options.display.max_columns = None"
   ]
  },
  {
   "cell_type": "code",
   "execution_count": 84,
   "id": "729a2a63",
   "metadata": {},
   "outputs": [],
   "source": [
    "# Import pleasant weather answers data set\n",
    "df_pleasant_weather = pd.read_csv(os.path.join(path, 'Dataset-Answers-Weather_Prediction_Pleasant_Weather.csv'), index_col = False)"
   ]
  },
  {
   "cell_type": "code",
   "execution_count": 85,
   "id": "621cda64",
   "metadata": {},
   "outputs": [],
   "source": [
    "# Import unscaled mean temperatures data set\n",
    "df_unscaled = pd.read_csv(os.path.join(path, 'Dataset-weather-prediction-dataset-processed.csv'), index_col = False)"
   ]
  },
  {
   "cell_type": "code",
   "execution_count": 86,
   "id": "e0811cab",
   "metadata": {},
   "outputs": [
    {
     "data": {
      "text/plain": [
       "(22950, 170)"
      ]
     },
     "execution_count": 86,
     "metadata": {},
     "output_type": "execute_result"
    }
   ],
   "source": [
    "df_unscaled.shape"
   ]
  },
  {
   "cell_type": "code",
   "execution_count": 87,
   "id": "e355d564",
   "metadata": {},
   "outputs": [
    {
     "data": {
      "text/plain": [
       "(22950, 16)"
      ]
     },
     "execution_count": 87,
     "metadata": {},
     "output_type": "execute_result"
    }
   ],
   "source": [
    "df_pleasant_weather.shape"
   ]
  },
  {
   "cell_type": "markdown",
   "id": "d8fa68fd",
   "metadata": {},
   "source": [
    "# 2. Data Wrangling"
   ]
  },
  {
   "cell_type": "code",
   "execution_count": 88,
   "id": "bc94ea74",
   "metadata": {},
   "outputs": [],
   "source": [
    "# Dropping all columns regarding Gdansk, Roma, Tours from unscaled, as they aren't included in pleasant_weather\n",
    "\n",
    "columns_to_drop = ['GDANSK_cloud_cover', 'GDANSK_humidity', 'GDANSK_precipitation', \n",
    "                   'GDANSK_snow_depth', 'GDANSK_temp_mean', 'GDANSK_temp_min', \n",
    "                   'GDANSK_temp_max', 'ROMA_cloud_cover', 'ROMA_wind_speed', \n",
    "                   'ROMA_humidity', 'ROMA_pressure', 'ROMA_sunshine', 'ROMA_temp_mean',\n",
    "                   'TOURS_wind_speed', 'TOURS_humidity', 'TOURS_pressure',\n",
    "                   'TOURS_global_radiation', 'TOURS_precipitation', 'TOURS_temp_mean', \n",
    "                   'TOURS_temp_min', 'TOURS_temp_max']\n",
    "\n",
    "# Using the drop() method to drop the specified columns\n",
    "df_unscaled.drop(columns=columns_to_drop, inplace=True)"
   ]
  },
  {
   "cell_type": "code",
   "execution_count": 89,
   "id": "d70c2941",
   "metadata": {},
   "outputs": [
    {
     "data": {
      "text/plain": [
       "(22950, 149)"
      ]
     },
     "execution_count": 89,
     "metadata": {},
     "output_type": "execute_result"
    }
   ],
   "source": [
    "df_unscaled.shape "
   ]
  },
  {
   "cell_type": "code",
   "execution_count": 90,
   "id": "a710dcff",
   "metadata": {},
   "outputs": [],
   "source": [
    "df_unscaled.drop(columns = ['DATE', 'MONTH'], inplace = True)"
   ]
  },
  {
   "cell_type": "code",
   "execution_count": 91,
   "id": "7c3500d0",
   "metadata": {},
   "outputs": [],
   "source": [
    "df_pleasant_weather.drop(columns = 'DATE', inplace = True) "
   ]
  },
  {
   "cell_type": "code",
   "execution_count": 92,
   "id": "6dac13ce",
   "metadata": {},
   "outputs": [
    {
     "data": {
      "text/plain": [
       "(22950, 15)"
      ]
     },
     "execution_count": 92,
     "metadata": {},
     "output_type": "execute_result"
    }
   ],
   "source": [
    "df_pleasant_weather.shape"
   ]
  },
  {
   "cell_type": "code",
   "execution_count": 93,
   "id": "c8a4aec8",
   "metadata": {},
   "outputs": [],
   "source": [
    "further_drops = ['BASEL_snow_depth',  'DUSSELDORF_snow_depth', 'HEATHROW_snow_depth',\n",
    "                  'MUNCHENB_snow_depth', 'OSLO_snow_depth',  'VALENTIA_snow_depth',\n",
    "                 'BASEL_wind_speed', 'DEBILT_wind_speed', 'DUSSELDORF_wind_speed',\n",
    "                  'KASSEL_wind_speed', 'LJUBLJANA_wind_speed',  'MAASTRICHT_wind_speed',\n",
    "                  'MADRID_wind_speed', 'OSLO_wind_speed','SONNBLICK_wind_speed',]\n",
    "\n",
    "df_unscaled.drop(columns=further_drops, inplace=True)"
   ]
  },
  {
   "cell_type": "code",
   "execution_count": 94,
   "id": "e188287a",
   "metadata": {},
   "outputs": [
    {
     "data": {
      "text/plain": [
       "53"
      ]
     },
     "execution_count": 94,
     "metadata": {},
     "output_type": "execute_result"
    }
   ],
   "source": [
    "# Filling missing observations using nearby stations with similar weather:\n",
    "# Ljubljana -> Kassel\n",
    "# Sonnblick -> Munchen\n",
    "# Oslo -> Stockholm\n",
    "\n",
    "df_unscaled.columns.get_loc('HEATHROW_temp_max')"
   ]
  },
  {
   "cell_type": "code",
   "execution_count": 95,
   "id": "4463fd20",
   "metadata": {},
   "outputs": [
    {
     "data": {
      "text/plain": [
       "90"
      ]
     },
     "execution_count": 95,
     "metadata": {},
     "output_type": "execute_result"
    }
   ],
   "source": [
    "df_unscaled.columns.get_loc('MUNCHENB_humidity')"
   ]
  },
  {
   "cell_type": "code",
   "execution_count": 96,
   "id": "0fc3b674",
   "metadata": {},
   "outputs": [
    {
     "data": {
      "text/plain": [
       "115"
      ]
     },
     "execution_count": 96,
     "metadata": {},
     "output_type": "execute_result"
    }
   ],
   "source": [
    "df_unscaled.columns.get_loc('STOCKHOLM_cloud_cover')"
   ]
  },
  {
   "cell_type": "code",
   "execution_count": 97,
   "id": "75a517bd",
   "metadata": {},
   "outputs": [
    {
     "data": {
      "text/plain": [
       "['BASEL_cloud_cover',\n",
       " 'BASEL_humidity',\n",
       " 'BASEL_pressure',\n",
       " 'BASEL_global_radiation',\n",
       " 'BASEL_precipitation',\n",
       " 'BASEL_sunshine',\n",
       " 'BASEL_temp_mean',\n",
       " 'BASEL_temp_min',\n",
       " 'BASEL_temp_max',\n",
       " 'BELGRADE_cloud_cover',\n",
       " 'BELGRADE_humidity',\n",
       " 'BELGRADE_pressure',\n",
       " 'BELGRADE_global_radiation',\n",
       " 'BELGRADE_precipitation',\n",
       " 'BELGRADE_sunshine',\n",
       " 'BELGRADE_temp_mean',\n",
       " 'BELGRADE_temp_min',\n",
       " 'BELGRADE_temp_max',\n",
       " 'BUDAPEST_cloud_cover',\n",
       " 'BUDAPEST_humidity',\n",
       " 'BUDAPEST_pressure',\n",
       " 'BUDAPEST_global_radiation',\n",
       " 'BUDAPEST_precipitation',\n",
       " 'BUDAPEST_sunshine',\n",
       " 'BUDAPEST_temp_mean',\n",
       " 'BUDAPEST_temp_min',\n",
       " 'BUDAPEST_temp_max',\n",
       " 'DEBILT_cloud_cover',\n",
       " 'DEBILT_humidity',\n",
       " 'DEBILT_pressure',\n",
       " 'DEBILT_global_radiation',\n",
       " 'DEBILT_precipitation',\n",
       " 'DEBILT_sunshine',\n",
       " 'DEBILT_temp_mean',\n",
       " 'DEBILT_temp_min',\n",
       " 'DEBILT_temp_max',\n",
       " 'DUSSELDORF_cloud_cover',\n",
       " 'DUSSELDORF_humidity',\n",
       " 'DUSSELDORF_pressure',\n",
       " 'DUSSELDORF_global_radiation',\n",
       " 'DUSSELDORF_precipitation',\n",
       " 'DUSSELDORF_sunshine',\n",
       " 'DUSSELDORF_temp_mean',\n",
       " 'DUSSELDORF_temp_min',\n",
       " 'DUSSELDORF_temp_max',\n",
       " 'HEATHROW_cloud_cover',\n",
       " 'HEATHROW_humidity',\n",
       " 'HEATHROW_pressure',\n",
       " 'HEATHROW_global_radiation',\n",
       " 'HEATHROW_precipitation',\n",
       " 'HEATHROW_sunshine',\n",
       " 'HEATHROW_temp_mean',\n",
       " 'HEATHROW_temp_min',\n",
       " 'HEATHROW_temp_max',\n",
       " 'KASSEL_cloud_cover',\n",
       " 'KASSEL_humidity',\n",
       " 'KASSEL_pressure',\n",
       " 'KASSEL_global_radiation',\n",
       " 'KASSEL_precipitation',\n",
       " 'KASSEL_sunshine',\n",
       " 'KASSEL_temp_mean',\n",
       " 'KASSEL_temp_min',\n",
       " 'KASSEL_temp_max',\n",
       " 'LJUBLJANA_cloud_cover',\n",
       " 'LJUBLJANA_humidity',\n",
       " 'LJUBLJANA_pressure',\n",
       " 'LJUBLJANA_global_radiation',\n",
       " 'LJUBLJANA_precipitation',\n",
       " 'LJUBLJANA_sunshine',\n",
       " 'LJUBLJANA_temp_mean',\n",
       " 'LJUBLJANA_temp_min',\n",
       " 'LJUBLJANA_temp_max',\n",
       " 'MAASTRICHT_cloud_cover',\n",
       " 'MAASTRICHT_humidity',\n",
       " 'MAASTRICHT_pressure',\n",
       " 'MAASTRICHT_global_radiation',\n",
       " 'MAASTRICHT_precipitation',\n",
       " 'MAASTRICHT_sunshine',\n",
       " 'MAASTRICHT_temp_mean',\n",
       " 'MAASTRICHT_temp_min',\n",
       " 'MAASTRICHT_temp_max',\n",
       " 'MADRID_cloud_cover',\n",
       " 'MADRID_humidity',\n",
       " 'MADRID_pressure',\n",
       " 'MADRID_global_radiation',\n",
       " 'MADRID_precipitation',\n",
       " 'MADRID_sunshine',\n",
       " 'MADRID_temp_mean',\n",
       " 'MADRID_temp_min',\n",
       " 'MADRID_temp_max',\n",
       " 'MUNCHENB_cloud_cover',\n",
       " 'MUNCHENB_humidity',\n",
       " 'MUNCHENB_pressure',\n",
       " 'MUNCHENB_global_radiation',\n",
       " 'MUNCHENB_precipitation',\n",
       " 'MUNCHENB_sunshine',\n",
       " 'MUNCHENB_temp_mean',\n",
       " 'MUNCHENB_temp_min',\n",
       " 'MUNCHENB_temp_max',\n",
       " 'OSLO_cloud_cover',\n",
       " 'OSLO_humidity',\n",
       " 'OSLO_pressure',\n",
       " 'OSLO_global_radiation',\n",
       " 'OSLO_precipitation',\n",
       " 'OSLO_sunshine',\n",
       " 'OSLO_temp_mean',\n",
       " 'OSLO_temp_min',\n",
       " 'OSLO_temp_max',\n",
       " 'SONNBLICK_cloud_cover',\n",
       " 'SONNBLICK_humidity',\n",
       " 'SONNBLICK_pressure',\n",
       " 'SONNBLICK_global_radiation',\n",
       " 'SONNBLICK_precipitation',\n",
       " 'SONNBLICK_sunshine',\n",
       " 'SONNBLICK_temp_mean',\n",
       " 'SONNBLICK_temp_min',\n",
       " 'SONNBLICK_temp_max',\n",
       " 'STOCKHOLM_cloud_cover',\n",
       " 'STOCKHOLM_humidity',\n",
       " 'STOCKHOLM_pressure',\n",
       " 'STOCKHOLM_global_radiation',\n",
       " 'STOCKHOLM_precipitation',\n",
       " 'STOCKHOLM_sunshine',\n",
       " 'STOCKHOLM_temp_mean',\n",
       " 'STOCKHOLM_temp_min',\n",
       " 'STOCKHOLM_temp_max',\n",
       " 'VALENTIA_cloud_cover',\n",
       " 'VALENTIA_humidity',\n",
       " 'VALENTIA_pressure',\n",
       " 'VALENTIA_global_radiation',\n",
       " 'VALENTIA_precipitation',\n",
       " 'VALENTIA_sunshine',\n",
       " 'VALENTIA_temp_mean',\n",
       " 'VALENTIA_temp_min',\n",
       " 'VALENTIA_temp_max']"
      ]
     },
     "execution_count": 97,
     "metadata": {},
     "output_type": "execute_result"
    }
   ],
   "source": [
    "df_unscaled.insert(54,'KASSEL_cloud_cover', df_unscaled['LJUBLJANA_cloud_cover'])\n",
    "df_unscaled.insert(92,'MUNCHENB_pressure', df_unscaled['SONNBLICK_pressure'])\n",
    "df_unscaled.insert(118, 'STOCKHOLM_humidity', df_unscaled['OSLO_humidity'])\n",
    "df_unscaled.columns.tolist()"
   ]
  },
  {
   "cell_type": "code",
   "execution_count": 98,
   "id": "2966546a",
   "metadata": {},
   "outputs": [
    {
     "data": {
      "text/plain": [
       "(22950, 135)"
      ]
     },
     "execution_count": 98,
     "metadata": {},
     "output_type": "execute_result"
    }
   ],
   "source": [
    "df_unscaled.shape"
   ]
  },
  {
   "cell_type": "code",
   "execution_count": 99,
   "id": "ee3257a8",
   "metadata": {},
   "outputs": [],
   "source": [
    "df_unscaled.to_pickle(os.path.join(path, 'X_cleaned.pkl'))"
   ]
  },
  {
   "cell_type": "markdown",
   "id": "1f15e9dc",
   "metadata": {},
   "source": [
    "# 3. Reshaping for ML modeling"
   ]
  },
  {
   "cell_type": "code",
   "execution_count": 139,
   "id": "36aaeff6",
   "metadata": {},
   "outputs": [],
   "source": [
    "X = pd.read_pickle(os.path.join(path, 'X_cleaned.pkl'))"
   ]
  },
  {
   "cell_type": "code",
   "execution_count": 140,
   "id": "d048dc64",
   "metadata": {},
   "outputs": [],
   "source": [
    "y = df_pleasant_weather"
   ]
  },
  {
   "cell_type": "code",
   "execution_count": 141,
   "id": "22632647",
   "metadata": {},
   "outputs": [
    {
     "data": {
      "text/plain": [
       "(22950, 135)"
      ]
     },
     "execution_count": 141,
     "metadata": {},
     "output_type": "execute_result"
    }
   ],
   "source": [
    "X.shape"
   ]
  },
  {
   "cell_type": "code",
   "execution_count": 142,
   "id": "eaf5fd65-e6a4-4690-acc5-cadf703f1ca3",
   "metadata": {},
   "outputs": [
    {
     "data": {
      "text/plain": [
       "(22950, 15)"
      ]
     },
     "execution_count": 142,
     "metadata": {},
     "output_type": "execute_result"
    }
   ],
   "source": [
    "y.shape"
   ]
  },
  {
   "cell_type": "code",
   "execution_count": 144,
   "id": "bb636914",
   "metadata": {},
   "outputs": [],
   "source": [
    "# Turning X and y from a df to arrays\n",
    "X = np.array(X)\n",
    "y = np.array(y)"
   ]
  },
  {
   "cell_type": "code",
   "execution_count": 145,
   "id": "ab65ce8f",
   "metadata": {},
   "outputs": [
    {
     "name": "stdout",
     "output_type": "stream",
     "text": [
      "(22950, 15, 9)\n"
     ]
    }
   ],
   "source": [
    "# Reshape X to (22950, 15, 9)\n",
    "X = X.reshape(-1, 15, 9)\n",
    "print(X.shape)"
   ]
  },
  {
   "cell_type": "code",
   "execution_count": 146,
   "id": "09cfcbd0",
   "metadata": {},
   "outputs": [
    {
     "name": "stdout",
     "output_type": "stream",
     "text": [
      "y shape after argmax: (22950,)\n"
     ]
    }
   ],
   "source": [
    "# Reshape y to (22950,)\n",
    "y = np.argmax(y, axis=1)\n",
    "print(\"y shape after argmax:\", y.shape)"
   ]
  },
  {
   "cell_type": "code",
   "execution_count": 147,
   "id": "5f48b108-ef43-4873-960e-0b91b6caabbc",
   "metadata": {},
   "outputs": [
    {
     "name": "stdout",
     "output_type": "stream",
     "text": [
      "Unique values in y: [ 0  1  2  3  4  5  6  7  8  9 10 11 13 14]\n"
     ]
    }
   ],
   "source": [
    "# Check unique values in y to ensure it's correct\n",
    "print(\"Unique values in y:\", np.unique(y))"
   ]
  },
  {
   "cell_type": "code",
   "execution_count": 148,
   "id": "79ab1c53",
   "metadata": {},
   "outputs": [
    {
     "data": {
      "text/plain": [
       "(22950,)"
      ]
     },
     "execution_count": 148,
     "metadata": {},
     "output_type": "execute_result"
    }
   ],
   "source": [
    "# Check shape\n",
    "y.shape"
   ]
  },
  {
   "cell_type": "markdown",
   "id": "285bfc67",
   "metadata": {},
   "source": [
    "# 4. Splitting data (training and test sets)"
   ]
  },
  {
   "cell_type": "code",
   "execution_count": 149,
   "id": "b3794959",
   "metadata": {},
   "outputs": [],
   "source": [
    "# Split data into training and testing sets\n",
    "X_train, X_test, y_train, y_test = train_test_split(X, y, random_state = 127)"
   ]
  },
  {
   "cell_type": "code",
   "execution_count": 150,
   "id": "cf2fcc60-9aaa-4bdd-aa06-45779b8003e2",
   "metadata": {},
   "outputs": [
    {
     "data": {
      "text/plain": [
       "'multiclass'"
      ]
     },
     "execution_count": 150,
     "metadata": {},
     "output_type": "execute_result"
    }
   ],
   "source": [
    "type_of_target(y)"
   ]
  },
  {
   "cell_type": "markdown",
   "id": "ecba9797",
   "metadata": {},
   "source": [
    "# 5. Bayesian hyperparameter optimization"
   ]
  },
  {
   "cell_type": "code",
   "execution_count": 151,
   "id": "e745d49e-9e12-47b1-965e-d51459c295d4",
   "metadata": {},
   "outputs": [],
   "source": [
    "# Determine the number of time steps for the input data\n",
    "timesteps = X_train.shape[1]\n",
    "\n",
    "# Determine the dimensionality of the input data\n",
    "input_dim = X_train.shape[2]\n",
    "\n",
    "# Specify the number of classes for the target variable\n",
    "n_classes = 15  \n",
    "\n",
    "# Create a scorer for accuracy\n",
    "score_acc = make_scorer(accuracy_score)"
   ]
  },
  {
   "cell_type": "code",
   "execution_count": 152,
   "id": "d54a3091-6c51-465a-8379-ca6f0826199e",
   "metadata": {},
   "outputs": [],
   "source": [
    "# Create function\n",
    "def bay_area(neurons, activation, kernel, optimizer, learning_rate, batch_size, epochs, layers1, layers2, normalization, dropout, dropout_rate):\n",
    "    optimizerL = ['SGD', 'Adam', 'RMSprop', 'Adadelta', 'Adagrad', 'Adamax', 'Nadam', 'Ftrl', 'SGD']\n",
    "    activationL = ['relu', 'sigmoid', 'softplus', 'softsign', 'tanh', 'selu', 'elu', 'exponential', LeakyReLU, 'relu']\n",
    "    \n",
    "    neurons = round(neurons)\n",
    "    kernel = round(kernel)\n",
    "    activation = activationL[round(activation)]\n",
    "    optimizer_name = optimizerL[round(optimizer)]\n",
    "    batch_size = round(batch_size)\n",
    "    epochs = round(epochs)\n",
    "    layers1 = round(layers1)\n",
    "    layers2 = round(layers2)\n",
    "\n",
    "    def cnn_model():\n",
    "        model = Sequential()\n",
    "        model.add(Input(shape=(timesteps, input_dim)))\n",
    "        model.add(Conv1D(neurons, kernel_size=kernel, activation=activation))\n",
    "        if normalization > 0.5:\n",
    "            model.add(BatchNormalization())\n",
    "        for i in range(layers1):\n",
    "            model.add(Dense(neurons, activation=activation))\n",
    "        if dropout > 0.5:\n",
    "            model.add(Dropout(dropout_rate, seed=127))\n",
    "        for i in range(layers2):\n",
    "            model.add(Dense(neurons, activation=activation))\n",
    "        model.add(MaxPooling1D())\n",
    "        model.add(Flatten())\n",
    "        model.add(Dense(n_classes, activation='softmax'))  # sigmoid softmax\n",
    "        \n",
    "        # Create a new optimizer instance for each iteration\n",
    "        if optimizer_name == 'Adam':\n",
    "            optimizer_instance = Adam(learning_rate=learning_rate)\n",
    "        elif optimizer_name == 'SGD':\n",
    "            optimizer_instance = SGD(learning_rate=learning_rate)\n",
    "        elif optimizer_name == 'RMSprop':\n",
    "            optimizer_instance = RMSprop(learning_rate=learning_rate)\n",
    "        elif optimizer_name == 'Adadelta':\n",
    "            optimizer_instance = Adadelta(learning_rate=learning_rate)\n",
    "        elif optimizer_name == 'Adagrad':\n",
    "            optimizer_instance = Adagrad(learning_rate=learning_rate)\n",
    "        elif optimizer_name == 'Adamax':\n",
    "            optimizer_instance = Adamax(learning_rate=learning_rate)\n",
    "        elif optimizer_name == 'Nadam':\n",
    "            optimizer_instance = Nadam(learning_rate=learning_rate)\n",
    "        elif optimizer_name == 'Ftrl':\n",
    "            optimizer_instance = Ftrl(learning_rate=learning_rate)\n",
    "        \n",
    "        model.compile(loss='sparse_categorical_crossentropy', optimizer=optimizer_instance, metrics=['accuracy'])\n",
    "        return model\n",
    "\n",
    "    # K-fold cross-validation\n",
    "    es = EarlyStopping(monitor='accuracy', mode='max', verbose=1, patience=20)\n",
    "    kfold = StratifiedKFold(n_splits=5, shuffle=True, random_state=127)\n",
    "    results = []\n",
    "    for train, test in kfold.split(X, y):\n",
    "        model = cnn_model()\n",
    "        model.fit(X[train], y[train], epochs=epochs, batch_size=batch_size, verbose=0, callbacks=[es])\n",
    "        scores = model.evaluate(X[test], y[test], verbose=1)\n",
    "        results.append(scores[1])  # Assuming accuracy is the second metric\n",
    "    return np.mean(results)"
   ]
  },
  {
   "cell_type": "code",
   "execution_count": 153,
   "id": "fe002fd2-9051-484c-815d-98d5975c4810",
   "metadata": {},
   "outputs": [
    {
     "name": "stdout",
     "output_type": "stream",
     "text": [
      "|   iter    |  target   | activa... | batch_... |  dropout  | dropou... |  epochs   |  kernel   |  layers1  |  layers2  | learni... |  neurons  | normal... | optimizer |\n",
      "-------------------------------------------------------------------------------------------------------------------------------------------------------------------------\n",
      "Epoch 22: early stopping\n",
      "\u001b[1m144/144\u001b[0m \u001b[32m━━━━━━━━━━━━━━━━━━━━\u001b[0m\u001b[37m\u001b[0m \u001b[1m0s\u001b[0m 880us/step - accuracy: 0.0710 - loss: 72.6419\n",
      "Epoch 26: early stopping\n",
      "\u001b[1m144/144\u001b[0m \u001b[32m━━━━━━━━━━━━━━━━━━━━\u001b[0m\u001b[37m\u001b[0m \u001b[1m0s\u001b[0m 903us/step - accuracy: 0.6552 - loss: 33.4591\n",
      "Epoch 20: early stopping\n",
      "\u001b[1m144/144\u001b[0m \u001b[32m━━━━━━━━━━━━━━━━━━━━\u001b[0m\u001b[37m\u001b[0m \u001b[1m0s\u001b[0m 1ms/step - accuracy: 0.0738 - loss: 96.0564  \n",
      "Epoch 20: early stopping\n",
      "\u001b[1m144/144\u001b[0m \u001b[32m━━━━━━━━━━━━━━━━━━━━\u001b[0m\u001b[37m\u001b[0m \u001b[1m0s\u001b[0m 914us/step - accuracy: 0.6617 - loss: 72.2257\n",
      "Epoch 20: early stopping\n",
      "\u001b[1m144/144\u001b[0m \u001b[32m━━━━━━━━━━━━━━━━━━━━\u001b[0m\u001b[37m\u001b[0m \u001b[1m0s\u001b[0m 1ms/step - accuracy: 0.6544 - loss: 72.5225  \n",
      "| \u001b[39m1        \u001b[39m | \u001b[39m0.4158   \u001b[39m | \u001b[39m4.714    \u001b[39m | \u001b[39m232.0    \u001b[39m | \u001b[39m0.186    \u001b[39m | \u001b[39m0.4546   \u001b[39m | \u001b[39m64.17    \u001b[39m | \u001b[39m1.173    \u001b[39m | \u001b[39m1.883    \u001b[39m | \u001b[39m2.431    \u001b[39m | \u001b[39m0.6709   \u001b[39m | \u001b[39m52.56    \u001b[39m | \u001b[39m0.9062   \u001b[39m | \u001b[39m0.7344   \u001b[39m |\n",
      "Epoch 22: early stopping\n",
      "\u001b[1m144/144\u001b[0m \u001b[32m━━━━━━━━━━━━━━━━━━━━\u001b[0m\u001b[37m\u001b[0m \u001b[1m0s\u001b[0m 1ms/step - accuracy: 0.6451 - loss: nan\n",
      "Epoch 22: early stopping\n",
      "\u001b[1m144/144\u001b[0m \u001b[32m━━━━━━━━━━━━━━━━━━━━\u001b[0m\u001b[37m\u001b[0m \u001b[1m0s\u001b[0m 1ms/step - accuracy: 0.6552 - loss: nan\n",
      "Epoch 20: early stopping\n",
      "\u001b[1m144/144\u001b[0m \u001b[32m━━━━━━━━━━━━━━━━━━━━\u001b[0m\u001b[37m\u001b[0m \u001b[1m0s\u001b[0m 1ms/step - accuracy: 0.6520 - loss: nan\n",
      "Epoch 20: early stopping\n",
      "\u001b[1m144/144\u001b[0m \u001b[32m━━━━━━━━━━━━━━━━━━━━\u001b[0m\u001b[37m\u001b[0m \u001b[1m0s\u001b[0m 1ms/step - accuracy: 0.6617 - loss: nan\n",
      "Epoch 20: early stopping\n",
      "\u001b[1m144/144\u001b[0m \u001b[32m━━━━━━━━━━━━━━━━━━━━\u001b[0m\u001b[37m\u001b[0m \u001b[1m0s\u001b[0m 1ms/step - accuracy: 0.6544 - loss: nan\n",
      "| \u001b[35m2        \u001b[39m | \u001b[35m0.6434   \u001b[39m | \u001b[35m1.573    \u001b[39m | \u001b[35m271.1    \u001b[39m | \u001b[35m0.6497   \u001b[39m | \u001b[35m0.3143   \u001b[39m | \u001b[35m56.8     \u001b[39m | \u001b[35m2.813    \u001b[39m | \u001b[35m1.188    \u001b[39m | \u001b[35m2.266    \u001b[39m | \u001b[35m0.2669   \u001b[39m | \u001b[35m92.48    \u001b[39m | \u001b[35m0.1275   \u001b[39m | \u001b[35m0.4802   \u001b[39m |\n",
      "Epoch 41: early stopping\n",
      "\u001b[1m144/144\u001b[0m \u001b[32m━━━━━━━━━━━━━━━━━━━━\u001b[0m\u001b[37m\u001b[0m \u001b[1m0s\u001b[0m 1ms/step - accuracy: 0.6451 - loss: 11.0831\n",
      "Epoch 26: early stopping\n",
      "\u001b[1m144/144\u001b[0m \u001b[32m━━━━━━━━━━━━━━━━━━━━\u001b[0m\u001b[37m\u001b[0m \u001b[1m0s\u001b[0m 1ms/step - accuracy: 0.6552 - loss: 24.9175\n",
      "Epoch 20: early stopping\n",
      "\u001b[1m144/144\u001b[0m \u001b[32m━━━━━━━━━━━━━━━━━━━━\u001b[0m\u001b[37m\u001b[0m \u001b[1m0s\u001b[0m 2ms/step - accuracy: 0.6520 - loss: 29.5072\n",
      "Epoch 27: early stopping\n",
      "\u001b[1m144/144\u001b[0m \u001b[32m━━━━━━━━━━━━━━━━━━━━\u001b[0m\u001b[37m\u001b[0m \u001b[1m0s\u001b[0m 2ms/step - accuracy: 0.6617 - loss: 12.0758\n",
      "Epoch 20: early stopping\n",
      "\u001b[1m144/144\u001b[0m \u001b[32m━━━━━━━━━━━━━━━━━━━━\u001b[0m\u001b[37m\u001b[0m \u001b[1m0s\u001b[0m 1ms/step - accuracy: 0.6544 - loss: 2.2310\n",
      "| \u001b[39m3        \u001b[39m | \u001b[39m0.6434   \u001b[39m | \u001b[39m6.052    \u001b[39m | \u001b[39m361.9    \u001b[39m | \u001b[39m0.4819   \u001b[39m | \u001b[39m0.3475   \u001b[39m | \u001b[39m83.42    \u001b[39m | \u001b[39m1.691    \u001b[39m | \u001b[39m2.908    \u001b[39m | \u001b[39m2.201    \u001b[39m | \u001b[39m0.3927   \u001b[39m | \u001b[39m67.47    \u001b[39m | \u001b[39m0.8815   \u001b[39m | \u001b[39m1.416    \u001b[39m |\n",
      "Epoch 46: early stopping\n",
      "\u001b[1m144/144\u001b[0m \u001b[32m━━━━━━━━━━━━━━━━━━━━\u001b[0m\u001b[37m\u001b[0m \u001b[1m0s\u001b[0m 845us/step - accuracy: 0.6477 - loss: 1.0858\n",
      "Epoch 20: early stopping\n",
      "\u001b[1m144/144\u001b[0m \u001b[32m━━━━━━━━━━━━━━━━━━━━\u001b[0m\u001b[37m\u001b[0m \u001b[1m0s\u001b[0m 882us/step - accuracy: 0.6552 - loss: 5.9985\n",
      "Epoch 20: early stopping\n",
      "\u001b[1m144/144\u001b[0m \u001b[32m━━━━━━━━━━━━━━━━━━━━\u001b[0m\u001b[37m\u001b[0m \u001b[1m0s\u001b[0m 798us/step - accuracy: 0.6520 - loss: 1.3322\n",
      "Epoch 20: early stopping\n",
      "\u001b[1m144/144\u001b[0m \u001b[32m━━━━━━━━━━━━━━━━━━━━\u001b[0m\u001b[37m\u001b[0m \u001b[1m0s\u001b[0m 808us/step - accuracy: 0.6617 - loss: 1.1825\n",
      "Epoch 20: early stopping\n",
      "\u001b[1m144/144\u001b[0m \u001b[32m━━━━━━━━━━━━━━━━━━━━\u001b[0m\u001b[37m\u001b[0m \u001b[1m0s\u001b[0m 811us/step - accuracy: 0.6544 - loss: 1.2452\n",
      "| \u001b[35m4        \u001b[39m | \u001b[35m0.6443   \u001b[39m | \u001b[35m5.379    \u001b[39m | \u001b[35m539.7    \u001b[39m | \u001b[35m0.201    \u001b[39m | \u001b[35m0.3324   \u001b[39m | \u001b[35m58.97    \u001b[39m | \u001b[35m1.07     \u001b[39m | \u001b[35m1.821    \u001b[39m | \u001b[35m2.718    \u001b[39m | \u001b[35m0.3971   \u001b[39m | \u001b[35m31.79    \u001b[39m | \u001b[35m0.9366   \u001b[39m | \u001b[35m5.283    \u001b[39m |\n",
      "Epoch 25: early stopping\n",
      "\u001b[1m144/144\u001b[0m \u001b[32m━━━━━━━━━━━━━━━━━━━━\u001b[0m\u001b[37m\u001b[0m \u001b[1m0s\u001b[0m 879us/step - accuracy: 0.6451 - loss: 1.2337\n",
      "Epoch 22: early stopping\n",
      "\u001b[1m144/144\u001b[0m \u001b[32m━━━━━━━━━━━━━━━━━━━━\u001b[0m\u001b[37m\u001b[0m \u001b[1m0s\u001b[0m 908us/step - accuracy: 0.6548 - loss: 1.2998\n",
      "Epoch 20: early stopping\n",
      "\u001b[1m144/144\u001b[0m \u001b[32m━━━━━━━━━━━━━━━━━━━━\u001b[0m\u001b[37m\u001b[0m \u001b[1m0s\u001b[0m 938us/step - accuracy: 0.6520 - loss: 1.1422\n",
      "Epoch 20: early stopping\n",
      "\u001b[1m144/144\u001b[0m \u001b[32m━━━━━━━━━━━━━━━━━━━━\u001b[0m\u001b[37m\u001b[0m \u001b[1m0s\u001b[0m 858us/step - accuracy: 0.6617 - loss: 1.1637\n",
      "Epoch 20: early stopping\n",
      "\u001b[1m144/144\u001b[0m \u001b[32m━━━━━━━━━━━━━━━━━━━━\u001b[0m\u001b[37m\u001b[0m \u001b[1m0s\u001b[0m 937us/step - accuracy: 0.6544 - loss: 1.1834\n",
      "| \u001b[39m5        \u001b[39m | \u001b[39m0.6434   \u001b[39m | \u001b[39m8.951    \u001b[39m | \u001b[39m292.0    \u001b[39m | \u001b[39m0.1595   \u001b[39m | \u001b[39m0.4401   \u001b[39m | \u001b[39m61.92    \u001b[39m | \u001b[39m1.349    \u001b[39m | \u001b[39m1.874    \u001b[39m | \u001b[39m2.395    \u001b[39m | \u001b[39m0.5142   \u001b[39m | \u001b[39m74.0     \u001b[39m | \u001b[39m0.2923   \u001b[39m | \u001b[39m2.465    \u001b[39m |\n",
      "\u001b[1m144/144\u001b[0m \u001b[32m━━━━━━━━━━━━━━━━━━━━\u001b[0m\u001b[37m\u001b[0m \u001b[1m0s\u001b[0m 512us/step - accuracy: 0.7707 - loss: 0.6580\n",
      "\u001b[1m144/144\u001b[0m \u001b[32m━━━━━━━━━━━━━━━━━━━━\u001b[0m\u001b[37m\u001b[0m \u001b[1m0s\u001b[0m 586us/step - accuracy: 0.7490 - loss: 1.1078\n",
      "Epoch 20: early stopping\n",
      "\u001b[1m144/144\u001b[0m \u001b[32m━━━━━━━━━━━━━━━━━━━━\u001b[0m\u001b[37m\u001b[0m \u001b[1m0s\u001b[0m 580us/step - accuracy: 0.6824 - loss: 1.0578\n",
      "Epoch 20: early stopping\n",
      "\u001b[1m144/144\u001b[0m \u001b[32m━━━━━━━━━━━━━━━━━━━━\u001b[0m\u001b[37m\u001b[0m \u001b[1m0s\u001b[0m 499us/step - accuracy: 0.4815 - loss: 2.0340\n",
      "Epoch 20: early stopping\n",
      "\u001b[1m144/144\u001b[0m \u001b[32m━━━━━━━━━━━━━━━━━━━━\u001b[0m\u001b[37m\u001b[0m \u001b[1m0s\u001b[0m 544us/step - accuracy: 0.6569 - loss: 1.2382\n",
      "| \u001b[35m6        \u001b[39m | \u001b[35m0.6596   \u001b[39m | \u001b[35m2.783    \u001b[39m | \u001b[35m778.9    \u001b[39m | \u001b[35m0.1646   \u001b[39m | \u001b[35m0.3458   \u001b[39m | \u001b[35m31.58    \u001b[39m | \u001b[35m1.392    \u001b[39m | \u001b[35m2.01     \u001b[39m | \u001b[35m1.545    \u001b[39m | \u001b[35m0.2438   \u001b[39m | \u001b[35m41.07    \u001b[39m | \u001b[35m0.9895   \u001b[39m | \u001b[35m4.893    \u001b[39m |\n",
      "\u001b[1m144/144\u001b[0m \u001b[32m━━━━━━━━━━━━━━━━━━━━\u001b[0m\u001b[37m\u001b[0m \u001b[1m0s\u001b[0m 432us/step - accuracy: 0.8639 - loss: 0.3956\n",
      "Epoch 20: early stopping\n",
      "\u001b[1m144/144\u001b[0m \u001b[32m━━━━━━━━━━━━━━━━━━━━\u001b[0m\u001b[37m\u001b[0m \u001b[1m0s\u001b[0m 448us/step - accuracy: 0.7411 - loss: 0.6882\n",
      "Epoch 20: early stopping\n",
      "\u001b[1m144/144\u001b[0m \u001b[32m━━━━━━━━━━━━━━━━━━━━\u001b[0m\u001b[37m\u001b[0m \u001b[1m0s\u001b[0m 450us/step - accuracy: 0.7519 - loss: 0.6964\n",
      "Epoch 20: early stopping\n",
      "\u001b[1m144/144\u001b[0m \u001b[32m━━━━━━━━━━━━━━━━━━━━\u001b[0m\u001b[37m\u001b[0m \u001b[1m0s\u001b[0m 463us/step - accuracy: 0.7533 - loss: 0.6959\n",
      "Epoch 20: early stopping\n",
      "\u001b[1m144/144\u001b[0m \u001b[32m━━━━━━━━━━━━━━━━━━━━\u001b[0m\u001b[37m\u001b[0m \u001b[1m0s\u001b[0m 449us/step - accuracy: 0.7550 - loss: 0.7071\n",
      "| \u001b[35m7        \u001b[39m | \u001b[35m0.7669   \u001b[39m | \u001b[35m4.522    \u001b[39m | \u001b[35m744.1    \u001b[39m | \u001b[35m0.9174   \u001b[39m | \u001b[35m0.4632   \u001b[39m | \u001b[35m96.58    \u001b[39m | \u001b[35m2.627    \u001b[39m | \u001b[35m1.598    \u001b[39m | \u001b[35m1.644    \u001b[39m | \u001b[35m0.677    \u001b[39m | \u001b[35m14.0     \u001b[39m | \u001b[35m0.7135   \u001b[39m | \u001b[35m3.301    \u001b[39m |\n",
      "Epoch 22: early stopping\n",
      "\u001b[1m144/144\u001b[0m \u001b[32m━━━━━━━━━━━━━━━━━━━━\u001b[0m\u001b[37m\u001b[0m \u001b[1m0s\u001b[0m 1ms/step - accuracy: 0.6451 - loss: 287.5137\n",
      "Epoch 20: early stopping\n",
      "\u001b[1m144/144\u001b[0m \u001b[32m━━━━━━━━━━━━━━━━━━━━\u001b[0m\u001b[37m\u001b[0m \u001b[1m0s\u001b[0m 1ms/step - accuracy: 0.6552 - loss: 360.3089\n",
      "Epoch 20: early stopping\n",
      "\u001b[1m144/144\u001b[0m \u001b[32m━━━━━━━━━━━━━━━━━━━━\u001b[0m\u001b[37m\u001b[0m \u001b[1m0s\u001b[0m 1ms/step - accuracy: 0.1888 - loss: 247.4023\n",
      "Epoch 22: early stopping\n",
      "\u001b[1m144/144\u001b[0m \u001b[32m━━━━━━━━━━━━━━━━━━━━\u001b[0m\u001b[37m\u001b[0m \u001b[1m0s\u001b[0m 1ms/step - accuracy: 0.6617 - loss: 431.9643\n",
      "Epoch 26: early stopping\n",
      "\u001b[1m144/144\u001b[0m \u001b[32m━━━━━━━━━━━━━━━━━━━━\u001b[0m\u001b[37m\u001b[0m \u001b[1m0s\u001b[0m 1ms/step - accuracy: 0.1909 - loss: 240.3588\n",
      "| \u001b[39m8        \u001b[39m | \u001b[39m0.4634   \u001b[39m | \u001b[39m5.759    \u001b[39m | \u001b[39m605.0    \u001b[39m | \u001b[39m0.1657   \u001b[39m | \u001b[39m0.3829   \u001b[39m | \u001b[39m90.37    \u001b[39m | \u001b[39m2.722    \u001b[39m | \u001b[39m1.829    \u001b[39m | \u001b[39m2.336    \u001b[39m | \u001b[39m0.757    \u001b[39m | \u001b[39m82.59    \u001b[39m | \u001b[39m0.674    \u001b[39m | \u001b[39m2.146    \u001b[39m |\n",
      "Epoch 22: early stopping\n",
      "\u001b[1m144/144\u001b[0m \u001b[32m━━━━━━━━━━━━━━━━━━━━\u001b[0m\u001b[37m\u001b[0m \u001b[1m0s\u001b[0m 1ms/step - accuracy: 0.6451 - loss: 1.1404\n",
      "Epoch 22: early stopping\n",
      "\u001b[1m144/144\u001b[0m \u001b[32m━━━━━━━━━━━━━━━━━━━━\u001b[0m\u001b[37m\u001b[0m \u001b[1m0s\u001b[0m 1ms/step - accuracy: 0.6552 - loss: 1.1417\n",
      "Epoch 20: early stopping\n",
      "\u001b[1m144/144\u001b[0m \u001b[32m━━━━━━━━━━━━━━━━━━━━\u001b[0m\u001b[37m\u001b[0m \u001b[1m0s\u001b[0m 1ms/step - accuracy: 0.6520 - loss: nan\n",
      "Epoch 20: early stopping\n",
      "\u001b[1m144/144\u001b[0m \u001b[32m━━━━━━━━━━━━━━━━━━━━\u001b[0m\u001b[37m\u001b[0m \u001b[1m0s\u001b[0m 1ms/step - accuracy: 0.6617 - loss: 1.1252\n",
      "Epoch 20: early stopping\n",
      "\u001b[1m144/144\u001b[0m \u001b[32m━━━━━━━━━━━━━━━━━━━━\u001b[0m\u001b[37m\u001b[0m \u001b[1m0s\u001b[0m 1ms/step - accuracy: 0.6544 - loss: 1.1293\n",
      "| \u001b[39m9        \u001b[39m | \u001b[39m0.6434   \u001b[39m | \u001b[39m1.71     \u001b[39m | \u001b[39m383.0    \u001b[39m | \u001b[39m0.1859   \u001b[39m | \u001b[39m0.3541   \u001b[39m | \u001b[39m79.76    \u001b[39m | \u001b[39m1.194    \u001b[39m | \u001b[39m1.526    \u001b[39m | \u001b[39m2.075    \u001b[39m | \u001b[39m0.9041   \u001b[39m | \u001b[39m84.38    \u001b[39m | \u001b[39m0.8003   \u001b[39m | \u001b[39m0.09905  \u001b[39m |\n",
      "Epoch 30: early stopping\n",
      "\u001b[1m144/144\u001b[0m \u001b[32m━━━━━━━━━━━━━━━━━━━━\u001b[0m\u001b[37m\u001b[0m \u001b[1m0s\u001b[0m 573us/step - accuracy: 0.6451 - loss: 1.3071\n",
      "Epoch 30: early stopping\n",
      "\u001b[1m144/144\u001b[0m \u001b[32m━━━━━━━━━━━━━━━━━━━━\u001b[0m\u001b[37m\u001b[0m \u001b[1m0s\u001b[0m 576us/step - accuracy: 0.6552 - loss: 1.2935\n",
      "Epoch 20: early stopping\n",
      "\u001b[1m144/144\u001b[0m \u001b[32m━━━━━━━━━━━━━━━━━━━━\u001b[0m\u001b[37m\u001b[0m \u001b[1m0s\u001b[0m 598us/step - accuracy: 0.6520 - loss: 1.2196\n",
      "Epoch 20: early stopping\n",
      "\u001b[1m144/144\u001b[0m \u001b[32m━━━━━━━━━━━━━━━━━━━━\u001b[0m\u001b[37m\u001b[0m \u001b[1m0s\u001b[0m 564us/step - accuracy: 0.6617 - loss: 1.2283\n",
      "Epoch 20: early stopping\n",
      "\u001b[1m144/144\u001b[0m \u001b[32m━━━━━━━━━━━━━━━━━━━━\u001b[0m\u001b[37m\u001b[0m \u001b[1m0s\u001b[0m 564us/step - accuracy: 0.6544 - loss: 1.2744\n",
      "| \u001b[39m10       \u001b[39m | \u001b[39m0.6434   \u001b[39m | \u001b[39m8.678    \u001b[39m | \u001b[39m869.4    \u001b[39m | \u001b[39m0.6053   \u001b[39m | \u001b[39m0.3531   \u001b[39m | \u001b[39m71.57    \u001b[39m | \u001b[39m2.462    \u001b[39m | \u001b[39m1.09     \u001b[39m | \u001b[39m2.968    \u001b[39m | \u001b[39m0.9803   \u001b[39m | \u001b[39m46.71    \u001b[39m | \u001b[39m0.6235   \u001b[39m | \u001b[39m2.347    \u001b[39m |\n",
      "Epoch 22: early stopping\n",
      "\u001b[1m144/144\u001b[0m \u001b[32m━━━━━━━━━━━━━━━━━━━━\u001b[0m\u001b[37m\u001b[0m \u001b[1m0s\u001b[0m 591us/step - accuracy: 0.6451 - loss: 1.1449\n",
      "Epoch 22: early stopping\n",
      "\u001b[1m144/144\u001b[0m \u001b[32m━━━━━━━━━━━━━━━━━━━━\u001b[0m\u001b[37m\u001b[0m \u001b[1m0s\u001b[0m 586us/step - accuracy: 0.6552 - loss: 1.1445\n",
      "Epoch 20: early stopping\n",
      "\u001b[1m144/144\u001b[0m \u001b[32m━━━━━━━━━━━━━━━━━━━━\u001b[0m\u001b[37m\u001b[0m \u001b[1m0s\u001b[0m 572us/step - accuracy: 0.6520 - loss: 1.1743\n",
      "Epoch 20: early stopping\n",
      "\u001b[1m144/144\u001b[0m \u001b[32m━━━━━━━━━━━━━━━━━━━━\u001b[0m\u001b[37m\u001b[0m \u001b[1m0s\u001b[0m 579us/step - accuracy: 0.6617 - loss: 1.1225\n",
      "Epoch 20: early stopping\n",
      "\u001b[1m144/144\u001b[0m \u001b[32m━━━━━━━━━━━━━━━━━━━━\u001b[0m\u001b[37m\u001b[0m \u001b[1m0s\u001b[0m 575us/step - accuracy: 0.6544 - loss: 1.1565\n",
      "| \u001b[39m11       \u001b[39m | \u001b[39m0.6434   \u001b[39m | \u001b[39m1.267    \u001b[39m | \u001b[39m961.5    \u001b[39m | \u001b[39m0.8919   \u001b[39m | \u001b[39m0.4301   \u001b[39m | \u001b[39m81.52    \u001b[39m | \u001b[39m2.994    \u001b[39m | \u001b[39m2.373    \u001b[39m | \u001b[39m1.792    \u001b[39m | \u001b[39m0.05079  \u001b[39m | \u001b[39m45.2     \u001b[39m | \u001b[39m0.7669   \u001b[39m | \u001b[39m6.906    \u001b[39m |\n",
      "Epoch 81: early stopping\n",
      "\u001b[1m144/144\u001b[0m \u001b[32m━━━━━━━━━━━━━━━━━━━━\u001b[0m\u001b[37m\u001b[0m \u001b[1m0s\u001b[0m 458us/step - accuracy: 0.5039 - loss: 603341376.0000\n",
      "Epoch 20: early stopping\n",
      "\u001b[1m144/144\u001b[0m \u001b[32m━━━━━━━━━━━━━━━━━━━━\u001b[0m\u001b[37m\u001b[0m \u001b[1m0s\u001b[0m 450us/step - accuracy: 0.6108 - loss: 463369.3438\n",
      "Epoch 49: early stopping\n",
      "\u001b[1m144/144\u001b[0m \u001b[32m━━━━━━━━━━━━━━━━━━━━\u001b[0m\u001b[37m\u001b[0m \u001b[1m0s\u001b[0m 433us/step - accuracy: 0.5029 - loss: 486300254208.0000\n",
      "Epoch 20: early stopping\n",
      "\u001b[1m144/144\u001b[0m \u001b[32m━━━━━━━━━━━━━━━━━━━━\u001b[0m\u001b[37m\u001b[0m \u001b[1m0s\u001b[0m 447us/step - accuracy: 0.6439 - loss: 13529205.0000\n",
      "Epoch 20: early stopping\n",
      "\u001b[1m144/144\u001b[0m \u001b[32m━━━━━━━━━━━━━━━━━━━━\u001b[0m\u001b[37m\u001b[0m \u001b[1m0s\u001b[0m 426us/step - accuracy: 0.6277 - loss: 4735.8452\n",
      "| \u001b[39m12       \u001b[39m | \u001b[39m0.5676   \u001b[39m | \u001b[39m7.83     \u001b[39m | \u001b[39m284.2    \u001b[39m | \u001b[39m0.2654   \u001b[39m | \u001b[39m0.4736   \u001b[39m | \u001b[39m97.1     \u001b[39m | \u001b[39m1.922    \u001b[39m | \u001b[39m1.464    \u001b[39m | \u001b[39m2.467    \u001b[39m | \u001b[39m0.9535   \u001b[39m | \u001b[39m44.37    \u001b[39m | \u001b[39m0.1684   \u001b[39m | \u001b[39m1.164    \u001b[39m |\n",
      "Epoch 24: early stopping\n",
      "\u001b[1m144/144\u001b[0m \u001b[32m━━━━━━━━━━━━━━━━━━━━\u001b[0m\u001b[37m\u001b[0m \u001b[1m0s\u001b[0m 478us/step - accuracy: 0.6451 - loss: 5.4594\n",
      "Epoch 20: early stopping\n",
      "\u001b[1m144/144\u001b[0m \u001b[32m━━━━━━━━━━━━━━━━━━━━\u001b[0m\u001b[37m\u001b[0m \u001b[1m0s\u001b[0m 469us/step - accuracy: 0.6552 - loss: 10.1899\n",
      "Epoch 20: early stopping\n",
      "\u001b[1m144/144\u001b[0m \u001b[32m━━━━━━━━━━━━━━━━━━━━\u001b[0m\u001b[37m\u001b[0m \u001b[1m0s\u001b[0m 453us/step - accuracy: 0.6520 - loss: 1.7097\n",
      "Epoch 20: early stopping\n",
      "\u001b[1m144/144\u001b[0m \u001b[32m━━━━━━━━━━━━━━━━━━━━\u001b[0m\u001b[37m\u001b[0m \u001b[1m0s\u001b[0m 473us/step - accuracy: 0.6617 - loss: 18.6096\n",
      "Epoch 20: early stopping\n",
      "\u001b[1m144/144\u001b[0m \u001b[32m━━━━━━━━━━━━━━━━━━━━\u001b[0m\u001b[37m\u001b[0m \u001b[1m0s\u001b[0m 480us/step - accuracy: 0.6544 - loss: 21.4173\n",
      "| \u001b[39m13       \u001b[39m | \u001b[39m0.6434   \u001b[39m | \u001b[39m5.513    \u001b[39m | \u001b[39m996.0    \u001b[39m | \u001b[39m0.9747   \u001b[39m | \u001b[39m0.3528   \u001b[39m | \u001b[39m96.45    \u001b[39m | \u001b[39m1.56     \u001b[39m | \u001b[39m1.62     \u001b[39m | \u001b[39m2.64     \u001b[39m | \u001b[39m0.9727   \u001b[39m | \u001b[39m19.0     \u001b[39m | \u001b[39m0.7042   \u001b[39m | \u001b[39m5.893    \u001b[39m |\n",
      "Epoch 22: early stopping\n",
      "\u001b[1m144/144\u001b[0m \u001b[32m━━━━━━━━━━━━━━━━━━━━\u001b[0m\u001b[37m\u001b[0m \u001b[1m0s\u001b[0m 1ms/step - accuracy: 0.6451 - loss: 1.1410\n",
      "Epoch 22: early stopping\n",
      "\u001b[1m144/144\u001b[0m \u001b[32m━━━━━━━━━━━━━━━━━━━━\u001b[0m\u001b[37m\u001b[0m \u001b[1m0s\u001b[0m 1ms/step - accuracy: 0.6552 - loss: 1.1450\n",
      "Epoch 20: early stopping\n",
      "\u001b[1m144/144\u001b[0m \u001b[32m━━━━━━━━━━━━━━━━━━━━\u001b[0m\u001b[37m\u001b[0m \u001b[1m0s\u001b[0m 1ms/step - accuracy: 0.6520 - loss: 1.1468\n",
      "Epoch 20: early stopping\n",
      "\u001b[1m144/144\u001b[0m \u001b[32m━━━━━━━━━━━━━━━━━━━━\u001b[0m\u001b[37m\u001b[0m \u001b[1m0s\u001b[0m 1ms/step - accuracy: 0.6617 - loss: 1.1284\n",
      "Epoch 20: early stopping\n",
      "\u001b[1m144/144\u001b[0m \u001b[32m━━━━━━━━━━━━━━━━━━━━\u001b[0m\u001b[37m\u001b[0m \u001b[1m0s\u001b[0m 1ms/step - accuracy: 0.6544 - loss: 1.1315\n",
      "| \u001b[39m14       \u001b[39m | \u001b[39m0.6434   \u001b[39m | \u001b[39m2.229    \u001b[39m | \u001b[39m222.4    \u001b[39m | \u001b[39m0.215    \u001b[39m | \u001b[39m0.4863   \u001b[39m | \u001b[39m95.6     \u001b[39m | \u001b[39m2.074    \u001b[39m | \u001b[39m1.007    \u001b[39m | \u001b[39m2.594    \u001b[39m | \u001b[39m0.2169   \u001b[39m | \u001b[39m85.73    \u001b[39m | \u001b[39m0.3766   \u001b[39m | \u001b[39m1.242    \u001b[39m |\n",
      "\u001b[1m144/144\u001b[0m \u001b[32m━━━━━━━━━━━━━━━━━━━━\u001b[0m\u001b[37m\u001b[0m \u001b[1m0s\u001b[0m 1ms/step - accuracy: 0.8023 - loss: 0.5481\n",
      "Epoch 20: early stopping\n",
      "\u001b[1m144/144\u001b[0m \u001b[32m━━━━━━━━━━━━━━━━━━━━\u001b[0m\u001b[37m\u001b[0m \u001b[1m0s\u001b[0m 1ms/step - accuracy: 0.7779 - loss: 0.6161\n",
      "Epoch 20: early stopping\n",
      "\u001b[1m144/144\u001b[0m \u001b[32m━━━━━━━━━━━━━━━━━━━━\u001b[0m\u001b[37m\u001b[0m \u001b[1m0s\u001b[0m 1ms/step - accuracy: 0.7851 - loss: 0.5914\n",
      "Epoch 20: early stopping\n",
      "\u001b[1m144/144\u001b[0m \u001b[32m━━━━━━━━━━━━━━━━━━━━\u001b[0m\u001b[37m\u001b[0m \u001b[1m0s\u001b[0m 1ms/step - accuracy: 0.7733 - loss: 0.6303\n",
      "Epoch 20: early stopping\n",
      "\u001b[1m144/144\u001b[0m \u001b[32m━━━━━━━━━━━━━━━━━━━━\u001b[0m\u001b[37m\u001b[0m \u001b[1m0s\u001b[0m 1ms/step - accuracy: 0.7838 - loss: 0.6047\n",
      "| \u001b[35m15       \u001b[39m | \u001b[35m0.7837   \u001b[39m | \u001b[35m3.8      \u001b[39m | \u001b[35m283.3    \u001b[39m | \u001b[35m0.7075   \u001b[39m | \u001b[35m0.4555   \u001b[39m | \u001b[35m34.66    \u001b[39m | \u001b[35m1.933    \u001b[39m | \u001b[35m2.556    \u001b[39m | \u001b[35m2.461    \u001b[39m | \u001b[35m0.05664  \u001b[39m | \u001b[35m78.55    \u001b[39m | \u001b[35m0.4846   \u001b[39m | \u001b[35m0.4789   \u001b[39m |\n",
      "Epoch 30: early stopping\n",
      "\u001b[1m144/144\u001b[0m \u001b[32m━━━━━━━━━━━━━━━━━━━━\u001b[0m\u001b[37m\u001b[0m \u001b[1m0s\u001b[0m 322us/step - accuracy: 0.6440 - loss: 1.2512\n",
      "Epoch 20: early stopping\n",
      "\u001b[1m144/144\u001b[0m \u001b[32m━━━━━━━━━━━━━━━━━━━━\u001b[0m\u001b[37m\u001b[0m \u001b[1m0s\u001b[0m 297us/step - accuracy: 0.3947 - loss: 2.5788\n",
      "Epoch 20: early stopping\n",
      "\u001b[1m144/144\u001b[0m \u001b[32m━━━━━━━━━━━━━━━━━━━━\u001b[0m\u001b[37m\u001b[0m \u001b[1m0s\u001b[0m 348us/step - accuracy: 0.5259 - loss: 1.6000 \n",
      "Epoch 20: early stopping\n",
      "\u001b[1m144/144\u001b[0m \u001b[32m━━━━━━━━━━━━━━━━━━━━\u001b[0m\u001b[37m\u001b[0m \u001b[1m0s\u001b[0m 297us/step - accuracy: 0.5537 - loss: 1.4629\n",
      "Epoch 20: early stopping\n",
      "\u001b[1m144/144\u001b[0m \u001b[32m━━━━━━━━━━━━━━━━━━━━\u001b[0m\u001b[37m\u001b[0m \u001b[1m0s\u001b[0m 294us/step - accuracy: 0.5717 - loss: 1.4795\n",
      "| \u001b[39m16       \u001b[39m | \u001b[39m0.5205   \u001b[39m | \u001b[39m2.938    \u001b[39m | \u001b[39m745.3    \u001b[39m | \u001b[39m0.8349   \u001b[39m | \u001b[39m0.3933   \u001b[39m | \u001b[39m97.87    \u001b[39m | \u001b[39m1.537    \u001b[39m | \u001b[39m1.432    \u001b[39m | \u001b[39m2.261    \u001b[39m | \u001b[39m0.8955   \u001b[39m | \u001b[39m14.38    \u001b[39m | \u001b[39m0.3979   \u001b[39m | \u001b[39m5.37     \u001b[39m |\n",
      "\u001b[1m144/144\u001b[0m \u001b[32m━━━━━━━━━━━━━━━━━━━━\u001b[0m\u001b[37m\u001b[0m \u001b[1m0s\u001b[0m 322us/step - accuracy: 0.8382 - loss: 0.4379\n",
      "Epoch 20: early stopping\n",
      "\u001b[1m144/144\u001b[0m \u001b[32m━━━━━━━━━━━━━━━━━━━━\u001b[0m\u001b[37m\u001b[0m \u001b[1m0s\u001b[0m 328us/step - accuracy: 0.8380 - loss: 0.4890\n",
      "Epoch 20: early stopping\n",
      "\u001b[1m144/144\u001b[0m \u001b[32m━━━━━━━━━━━━━━━━━━━━\u001b[0m\u001b[37m\u001b[0m \u001b[1m0s\u001b[0m 319us/step - accuracy: 0.8423 - loss: 0.4401\n",
      "Epoch 20: early stopping\n",
      "\u001b[1m144/144\u001b[0m \u001b[32m━━━━━━━━━━━━━━━━━━━━\u001b[0m\u001b[37m\u001b[0m \u001b[1m0s\u001b[0m 302us/step - accuracy: 0.7931 - loss: 0.6493\n",
      "Epoch 20: early stopping\n",
      "\u001b[1m144/144\u001b[0m \u001b[32m━━━━━━━━━━━━━━━━━━━━\u001b[0m\u001b[37m\u001b[0m \u001b[1m0s\u001b[0m 318us/step - accuracy: 0.8634 - loss: 0.3965\n",
      "| \u001b[35m17       \u001b[39m | \u001b[35m0.8281   \u001b[39m | \u001b[35m3.238    \u001b[39m | \u001b[35m858.1    \u001b[39m | \u001b[35m0.4023   \u001b[39m | \u001b[35m0.3935   \u001b[39m | \u001b[35m60.45    \u001b[39m | \u001b[35m2.112    \u001b[39m | \u001b[35m2.117    \u001b[39m | \u001b[35m2.337    \u001b[39m | \u001b[35m0.06153  \u001b[39m | \u001b[35m12.58    \u001b[39m | \u001b[35m0.4579   \u001b[39m | \u001b[35m0.9024   \u001b[39m |\n",
      "\u001b[1m144/144\u001b[0m \u001b[32m━━━━━━━━━━━━━━━━━━━━\u001b[0m\u001b[37m\u001b[0m \u001b[1m0s\u001b[0m 935us/step - accuracy: 0.7833 - loss: 3.6462\n",
      "Epoch 20: early stopping\n",
      "\u001b[1m144/144\u001b[0m \u001b[32m━━━━━━━━━━━━━━━━━━━━\u001b[0m\u001b[37m\u001b[0m \u001b[1m0s\u001b[0m 991us/step - accuracy: 0.5791 - loss: 30.7618\n",
      "Epoch 20: early stopping\n",
      "\u001b[1m144/144\u001b[0m \u001b[32m━━━━━━━━━━━━━━━━━━━━\u001b[0m\u001b[37m\u001b[0m \u001b[1m0s\u001b[0m 945us/step - accuracy: 0.6373 - loss: 6.3402\n",
      "Epoch 31: early stopping\n",
      "\u001b[1m144/144\u001b[0m \u001b[32m━━━━━━━━━━━━━━━━━━━━\u001b[0m\u001b[37m\u001b[0m \u001b[1m0s\u001b[0m 976us/step - accuracy: 0.6617 - loss: 33.3637\n",
      "Epoch 20: early stopping\n",
      "\u001b[1m144/144\u001b[0m \u001b[32m━━━━━━━━━━━━━━━━━━━━\u001b[0m\u001b[37m\u001b[0m \u001b[1m0s\u001b[0m 1ms/step - accuracy: 0.5514 - loss: 5.8275\n",
      "| \u001b[39m18       \u001b[39m | \u001b[39m0.6292   \u001b[39m | \u001b[39m2.745    \u001b[39m | \u001b[39m462.7    \u001b[39m | \u001b[39m0.2858   \u001b[39m | \u001b[39m0.3528   \u001b[39m | \u001b[39m30.56    \u001b[39m | \u001b[39m1.299    \u001b[39m | \u001b[39m1.366    \u001b[39m | \u001b[39m1.135    \u001b[39m | \u001b[39m0.1095   \u001b[39m | \u001b[39m97.15    \u001b[39m | \u001b[39m0.8575   \u001b[39m | \u001b[39m6.061    \u001b[39m |\n",
      "\u001b[1m144/144\u001b[0m \u001b[32m━━━━━━━━━━━━━━━━━━━━\u001b[0m\u001b[37m\u001b[0m \u001b[1m0s\u001b[0m 761us/step - accuracy: 0.8033 - loss: 0.5279\n",
      "Epoch 20: early stopping\n",
      "\u001b[1m144/144\u001b[0m \u001b[32m━━━━━━━━━━━━━━━━━━━━\u001b[0m\u001b[37m\u001b[0m \u001b[1m0s\u001b[0m 727us/step - accuracy: 0.6552 - loss: 1.1405\n",
      "Epoch 20: early stopping\n",
      "\u001b[1m144/144\u001b[0m \u001b[32m━━━━━━━━━━━━━━━━━━━━\u001b[0m\u001b[37m\u001b[0m \u001b[1m0s\u001b[0m 670us/step - accuracy: 0.6553 - loss: 0.9849\n",
      "Epoch 20: early stopping\n",
      "\u001b[1m144/144\u001b[0m \u001b[32m━━━━━━━━━━━━━━━━━━━━\u001b[0m\u001b[37m\u001b[0m \u001b[1m0s\u001b[0m 687us/step - accuracy: 0.6617 - loss: 1.1210\n",
      "Epoch 20: early stopping\n",
      "\u001b[1m144/144\u001b[0m \u001b[32m━━━━━━━━━━━━━━━━━━━━\u001b[0m\u001b[37m\u001b[0m \u001b[1m0s\u001b[0m 718us/step - accuracy: 0.6544 - loss: 1.1342\n",
      "| \u001b[39m19       \u001b[39m | \u001b[39m0.6739   \u001b[39m | \u001b[39m7.598    \u001b[39m | \u001b[39m377.8    \u001b[39m | \u001b[39m0.4762   \u001b[39m | \u001b[39m0.4064   \u001b[39m | \u001b[39m50.59    \u001b[39m | \u001b[39m2.725    \u001b[39m | \u001b[39m1.614    \u001b[39m | \u001b[39m1.574    \u001b[39m | \u001b[39m0.1622   \u001b[39m | \u001b[39m60.6     \u001b[39m | \u001b[39m0.5093   \u001b[39m | \u001b[39m6.768    \u001b[39m |\n",
      "=========================================================================================================================================================================\n",
      "Search took 26.121275170644125 minutes\n"
     ]
    }
   ],
   "source": [
    "# Start timing the Bayesian Optimization process\n",
    "start = time.time()\n",
    "\n",
    "# Define the hyperparameter space for Bayesian Optimization\n",
    "params = {\n",
    "    'neurons': (10, 100),\n",
    "    'kernel': (1, 3),\n",
    "    'activation': (0, 9),  # 9\n",
    "    'optimizer': (0, 7),  # 7\n",
    "    'learning_rate': (0.001, 1),\n",
    "    'batch_size': (200, 1000), #(10, 50), #\n",
    "    'epochs': (20, 100),\n",
    "    'layers1': (1, 3),\n",
    "    'layers2': (1, 3),\n",
    "    'normalization': (0, 1),\n",
    "    'dropout': (0, 1),\n",
    "    'dropout_rate': (0.3, 0.5)\n",
    "}\n",
    "\n",
    "# Run Bayesian Optimization\n",
    "nn_opt = BayesianOptimization(bay_area, params, random_state=127)\n",
    "nn_opt.maximize(init_points=15, n_iter=4)  # 25\n",
    "print('Search took %s minutes' % ((time.time() - start)/60))"
   ]
  },
  {
   "cell_type": "code",
   "execution_count": 154,
   "id": "938e30da-1997-4294-81ea-6297cdbe7042",
   "metadata": {},
   "outputs": [
    {
     "name": "stdout",
     "output_type": "stream",
     "text": [
      "Best Parameters: {'activation': 3.238346333286747, 'batch_size': 858.0863899431488, 'dropout': 0.40228837505867143, 'dropout_rate': 0.393459528897498, 'epochs': 60.44669476125228, 'kernel': 2.1120927218648693, 'layers1': 2.1169196169026234, 'layers2': 2.3365351568358195, 'learning_rate': 0.06152500093002812, 'neurons': 12.581466622198223, 'normalization': 0.45787219367534804, 'optimizer': 0.902427852988836}\n",
      "Highest Accuracy: 0.8280609965324401\n"
     ]
    }
   ],
   "source": [
    "best_params = nn_opt.max['params']\n",
    "best_score = nn_opt.max['target']\n",
    "\n",
    "print(f\"Best Parameters: {best_params}\")\n",
    "print(f\"Highest Accuracy: {best_score}\")"
   ]
  },
  {
   "cell_type": "code",
   "execution_count": 155,
   "id": "7e952df9-6007-409d-9212-ea142d362ab8",
   "metadata": {},
   "outputs": [
    {
     "name": "stdout",
     "output_type": "stream",
     "text": [
      "Best Parameters: \n",
      "Activation: softsign\n",
      "Batch Size: 858\n",
      "Dropout Rate: 0.3935\n",
      "Epochs: 60\n",
      "Kernel Size: 2\n",
      "Layers1: 2\n",
      "Layers2: 2\n",
      "Learning Rate: 0.0615\n",
      "Neurons: 13\n",
      "Normalization: 0.4579\n",
      "Optimizer: Adam\n"
     ]
    }
   ],
   "source": [
    "# Retrieve the best parameters from the optimization result\n",
    "optimum = nn_opt.max['params']\n",
    "\n",
    "# Assign the best parameters to their respective variables\n",
    "learning_rate = optimum['learning_rate']\n",
    "activationL = ['relu', 'sigmoid', 'softplus', 'softsign', 'tanh', 'selu', 'elu', 'exponential', 'LeakyReLU', 'relu']\n",
    "activation = activationL[round(optimum['activation'])]\n",
    "\n",
    "# Convert the hyperparameters to their integer form where necessary\n",
    "optimum['batch_size'] = round(optimum['batch_size'])\n",
    "optimum['epochs'] = round(optimum['epochs'])\n",
    "optimum['layers1'] = round(optimum['layers1'])\n",
    "optimum['layers2'] = round(optimum['layers2'])\n",
    "optimum['neurons'] = round(optimum['neurons'])\n",
    "optimum['kernel'] = round(optimum['kernel'])\n",
    "\n",
    "optimizerL = ['SGD', 'Adam', 'RMSprop', 'Adadelta', 'Adagrad', 'Adamax', 'Nadam', 'Ftrl']\n",
    "optimizerD = {\n",
    "    'SGD': SGD(learning_rate=learning_rate),\n",
    "    'Adam': Adam(learning_rate=learning_rate),\n",
    "    'RMSprop': RMSprop(learning_rate=learning_rate),\n",
    "    'Adadelta': Adadelta(learning_rate=learning_rate),\n",
    "    'Adagrad': Adagrad(learning_rate=learning_rate),\n",
    "    'Adamax': Adamax(learning_rate=learning_rate),\n",
    "    'Nadam': Nadam(learning_rate=learning_rate),\n",
    "    'Ftrl': Ftrl(learning_rate=learning_rate)\n",
    "}\n",
    "\n",
    "# Retrieve the optimizer name\n",
    "optimizer_name = optimizerL[round(optimum['optimizer'])]\n",
    "\n",
    "# Print the optimum parameters in a readable format\n",
    "print(f\"Best Parameters: \")\n",
    "print(f\"Activation: {activation}\")\n",
    "print(f\"Batch Size: {optimum['batch_size']}\")\n",
    "print(f\"Dropout Rate: {optimum['dropout_rate']:.4f}\")\n",
    "print(f\"Epochs: {optimum['epochs']}\")\n",
    "print(f\"Kernel Size: {optimum['kernel']}\")\n",
    "print(f\"Layers1: {optimum['layers1']}\")\n",
    "print(f\"Layers2: {optimum['layers2']}\")\n",
    "print(f\"Learning Rate: {optimum['learning_rate']:.4f}\")\n",
    "print(f\"Neurons: {optimum['neurons']}\")\n",
    "print(f\"Normalization: {optimum['normalization']:.4f}\")\n",
    "print(f\"Optimizer: {optimizer_name}\")"
   ]
  },
  {
   "cell_type": "markdown",
   "id": "0166ae68-09df-4537-9ac5-1968cd6633af",
   "metadata": {},
   "source": [
    "# 6. Building the CNN Model with Optimized Hyperparameters"
   ]
  },
  {
   "cell_type": "code",
   "execution_count": 156,
   "id": "07fe589f-2662-448f-9371-1f3531ae2da2",
   "metadata": {},
   "outputs": [
    {
     "name": "stdout",
     "output_type": "stream",
     "text": [
      "Epoch 1/60\n",
      "21/21 - 1s - 30ms/step - accuracy: 0.5729 - loss: 1.3001\n",
      "Epoch 2/60\n",
      "21/21 - 0s - 4ms/step - accuracy: 0.6226 - loss: 1.0316\n",
      "Epoch 3/60\n",
      "21/21 - 0s - 4ms/step - accuracy: 0.6335 - loss: 0.9759\n",
      "Epoch 4/60\n",
      "21/21 - 0s - 4ms/step - accuracy: 0.6455 - loss: 0.9579\n",
      "Epoch 5/60\n",
      "21/21 - 0s - 4ms/step - accuracy: 0.6576 - loss: 0.9309\n",
      "Epoch 6/60\n",
      "21/21 - 0s - 4ms/step - accuracy: 0.6860 - loss: 0.8844\n",
      "Epoch 7/60\n",
      "21/21 - 0s - 4ms/step - accuracy: 0.6957 - loss: 0.8563\n",
      "Epoch 8/60\n",
      "21/21 - 0s - 4ms/step - accuracy: 0.7110 - loss: 0.8137\n",
      "Epoch 9/60\n",
      "21/21 - 0s - 4ms/step - accuracy: 0.7264 - loss: 0.7814\n",
      "Epoch 10/60\n",
      "21/21 - 0s - 4ms/step - accuracy: 0.7357 - loss: 0.7773\n",
      "Epoch 11/60\n",
      "21/21 - 0s - 4ms/step - accuracy: 0.7426 - loss: 0.7524\n",
      "Epoch 12/60\n",
      "21/21 - 0s - 4ms/step - accuracy: 0.7436 - loss: 0.7301\n",
      "Epoch 13/60\n",
      "21/21 - 0s - 4ms/step - accuracy: 0.7487 - loss: 0.7176\n",
      "Epoch 14/60\n",
      "21/21 - 0s - 4ms/step - accuracy: 0.7479 - loss: 0.7248\n",
      "Epoch 15/60\n",
      "21/21 - 0s - 4ms/step - accuracy: 0.7401 - loss: 0.7333\n",
      "Epoch 16/60\n",
      "21/21 - 0s - 4ms/step - accuracy: 0.7485 - loss: 0.7147\n",
      "Epoch 17/60\n",
      "21/21 - 0s - 4ms/step - accuracy: 0.7297 - loss: 0.8287\n",
      "Epoch 18/60\n",
      "21/21 - 0s - 4ms/step - accuracy: 0.7257 - loss: 0.7669\n",
      "Epoch 19/60\n",
      "21/21 - 0s - 4ms/step - accuracy: 0.7465 - loss: 0.7083\n",
      "Epoch 20/60\n",
      "21/21 - 0s - 4ms/step - accuracy: 0.7252 - loss: 0.7654\n",
      "Epoch 21/60\n",
      "21/21 - 0s - 4ms/step - accuracy: 0.7601 - loss: 0.6881\n",
      "Epoch 22/60\n",
      "21/21 - 0s - 4ms/step - accuracy: 0.7708 - loss: 0.6519\n",
      "Epoch 23/60\n",
      "21/21 - 0s - 4ms/step - accuracy: 0.7552 - loss: 0.6541\n",
      "Epoch 24/60\n",
      "21/21 - 0s - 4ms/step - accuracy: 0.7564 - loss: 0.6694\n",
      "Epoch 25/60\n",
      "21/21 - 0s - 4ms/step - accuracy: 0.7187 - loss: 0.8437\n",
      "Epoch 26/60\n",
      "21/21 - 0s - 4ms/step - accuracy: 0.7557 - loss: 0.6996\n",
      "Epoch 27/60\n",
      "21/21 - 0s - 4ms/step - accuracy: 0.7566 - loss: 0.6904\n",
      "Epoch 28/60\n",
      "21/21 - 0s - 4ms/step - accuracy: 0.7703 - loss: 0.6361\n",
      "Epoch 29/60\n",
      "21/21 - 0s - 4ms/step - accuracy: 0.7537 - loss: 0.6921\n",
      "Epoch 30/60\n",
      "21/21 - 0s - 4ms/step - accuracy: 0.7715 - loss: 0.6337\n",
      "Epoch 31/60\n",
      "21/21 - 0s - 4ms/step - accuracy: 0.7790 - loss: 0.6025\n",
      "Epoch 32/60\n",
      "21/21 - 0s - 4ms/step - accuracy: 0.7838 - loss: 0.5993\n",
      "Epoch 33/60\n",
      "21/21 - 0s - 4ms/step - accuracy: 0.7867 - loss: 0.5758\n",
      "Epoch 34/60\n",
      "21/21 - 0s - 4ms/step - accuracy: 0.7733 - loss: 0.6219\n",
      "Epoch 35/60\n",
      "21/21 - 0s - 4ms/step - accuracy: 0.7900 - loss: 0.5875\n",
      "Epoch 36/60\n",
      "21/21 - 0s - 4ms/step - accuracy: 0.7757 - loss: 0.6196\n",
      "Epoch 37/60\n",
      "21/21 - 0s - 4ms/step - accuracy: 0.7876 - loss: 0.5829\n",
      "Epoch 38/60\n",
      "21/21 - 0s - 4ms/step - accuracy: 0.8007 - loss: 0.5590\n",
      "Epoch 39/60\n",
      "21/21 - 0s - 4ms/step - accuracy: 0.7940 - loss: 0.5638\n",
      "Epoch 40/60\n",
      "21/21 - 0s - 4ms/step - accuracy: 0.7885 - loss: 0.5619\n",
      "Epoch 41/60\n",
      "21/21 - 0s - 4ms/step - accuracy: 0.7955 - loss: 0.5609\n",
      "Epoch 42/60\n",
      "21/21 - 0s - 4ms/step - accuracy: 0.7937 - loss: 0.5721\n",
      "Epoch 43/60\n",
      "21/21 - 0s - 4ms/step - accuracy: 0.8026 - loss: 0.5556\n",
      "Epoch 44/60\n",
      "21/21 - 0s - 5ms/step - accuracy: 0.8054 - loss: 0.5406\n",
      "Epoch 45/60\n",
      "21/21 - 0s - 4ms/step - accuracy: 0.8116 - loss: 0.5288\n",
      "Epoch 46/60\n",
      "21/21 - 0s - 4ms/step - accuracy: 0.8100 - loss: 0.5145\n",
      "Epoch 47/60\n",
      "21/21 - 0s - 4ms/step - accuracy: 0.8035 - loss: 0.5305\n",
      "Epoch 48/60\n",
      "21/21 - 0s - 4ms/step - accuracy: 0.8025 - loss: 0.5566\n",
      "Epoch 49/60\n",
      "21/21 - 0s - 4ms/step - accuracy: 0.7997 - loss: 0.5536\n",
      "Epoch 50/60\n",
      "21/21 - 0s - 4ms/step - accuracy: 0.8027 - loss: 0.5419\n",
      "Epoch 51/60\n",
      "21/21 - 0s - 4ms/step - accuracy: 0.8008 - loss: 0.5478\n",
      "Epoch 52/60\n",
      "21/21 - 0s - 4ms/step - accuracy: 0.8209 - loss: 0.4972\n",
      "Epoch 53/60\n",
      "21/21 - 0s - 4ms/step - accuracy: 0.8184 - loss: 0.5101\n",
      "Epoch 54/60\n",
      "21/21 - 0s - 4ms/step - accuracy: 0.7624 - loss: 0.6748\n",
      "Epoch 55/60\n",
      "21/21 - 0s - 4ms/step - accuracy: 0.7505 - loss: 0.6915\n",
      "Epoch 56/60\n",
      "21/21 - 0s - 4ms/step - accuracy: 0.7774 - loss: 0.6195\n",
      "Epoch 57/60\n",
      "21/21 - 0s - 4ms/step - accuracy: 0.7824 - loss: 0.6037\n",
      "Epoch 58/60\n",
      "21/21 - 0s - 4ms/step - accuracy: 0.7872 - loss: 0.6183\n",
      "Epoch 59/60\n",
      "21/21 - 0s - 4ms/step - accuracy: 0.7807 - loss: 0.6086\n",
      "Epoch 60/60\n",
      "21/21 - 0s - 4ms/step - accuracy: 0.8028 - loss: 0.5488\n"
     ]
    },
    {
     "data": {
      "text/plain": [
       "<keras.src.callbacks.history.History at 0x42629bfb0>"
      ]
     },
     "execution_count": 156,
     "metadata": {},
     "output_type": "execute_result"
    }
   ],
   "source": [
    "# Best parameters from optimization\n",
    "best_params = {\n",
    "    'neurons': 13,\n",
    "    'kernel': 3,\n",
    "    'activation': 'softsign',\n",
    "    'optimizer': 'Adam',\n",
    "    'learning_rate': 0.0615,\n",
    "    'batch_size': 858,\n",
    "    'epochs':60,\n",
    "    'layers1': 2,\n",
    "    'layers2': 2,\n",
    "    'normalization': 0.4579,\n",
    "    'dropout': 0.40228837505867143,\n",
    "    'dropout_rate':  0.3935\n",
    "}\n",
    "\n",
    "# Initialize optimizer with learning rate\n",
    "optimizers = {\n",
    "    'Adam': Adam(learning_rate=best_params['learning_rate']),\n",
    "    'SGD': SGD(learning_rate=best_params['learning_rate']),\n",
    "    'RMSprop': RMSprop(learning_rate=best_params['learning_rate']),\n",
    "    'Adadelta': Adadelta(learning_rate=best_params['learning_rate']),\n",
    "    'Adagrad': Adagrad(learning_rate=best_params['learning_rate']),\n",
    "    'Adamax': Adamax(learning_rate=best_params['learning_rate']),\n",
    "    'Nadam': Nadam(learning_rate=best_params['learning_rate']),\n",
    "    'Ftrl': Ftrl(learning_rate=best_params['learning_rate'])\n",
    "}\n",
    "\n",
    "optimizer = optimizers[best_params['optimizer']]\n",
    "\n",
    "timesteps = len(X_train[0])\n",
    "input_dim = len(X_train[0][0])\n",
    "#n_classes = len(y_train[0])\n",
    "\n",
    "model = Sequential()\n",
    "model.add(Conv1D(best_params['neurons'], kernel_size=best_params['kernel'], activation=best_params['activation'], input_shape=(15,9)))\n",
    "\n",
    "if best_params['normalization'] > 0.5:\n",
    "    model.add(BatchNormalization())\n",
    "\n",
    "for _ in range(best_params['layers1']):\n",
    "    model.add(Dense(best_params['neurons'], activation=best_params['activation']))\n",
    "\n",
    "if best_params['dropout'] > 0.5:\n",
    "    model.add(Dropout(best_params['dropout_rate'], seed=123))\n",
    "\n",
    "for _ in range(best_params['layers2']):\n",
    "    model.add(Dense(best_params['neurons'], activation=best_params['activation']))\n",
    "\n",
    "model.add(MaxPooling1D())\n",
    "model.add(Flatten())\n",
    "model.add(Dense(n_classes, activation='softmax')) # sigmoid, tanh, softmax\n",
    "\n",
    "model.compile(loss='sparse_categorical_crossentropy', optimizer=optimizer, metrics=['accuracy'])\n",
    "\n",
    "# Train the model with the optimized parameters\n",
    "model.fit(X_train, y_train, epochs=best_params['epochs'], batch_size=best_params['batch_size'], verbose=2)"
   ]
  },
  {
   "cell_type": "code",
   "execution_count": 157,
   "id": "eb149849-a23b-4839-a9a1-092e539f85d2",
   "metadata": {},
   "outputs": [
    {
     "data": {
      "text/html": [
       "<pre style=\"white-space:pre;overflow-x:auto;line-height:normal;font-family:Menlo,'DejaVu Sans Mono',consolas,'Courier New',monospace\"><span style=\"font-weight: bold\">Model: \"sequential_424\"</span>\n",
       "</pre>\n"
      ],
      "text/plain": [
       "\u001b[1mModel: \"sequential_424\"\u001b[0m\n"
      ]
     },
     "metadata": {},
     "output_type": "display_data"
    },
    {
     "data": {
      "text/html": [
       "<pre style=\"white-space:pre;overflow-x:auto;line-height:normal;font-family:Menlo,'DejaVu Sans Mono',consolas,'Courier New',monospace\">┏━━━━━━━━━━━━━━━━━━━━━━━━━━━━━━━━━┳━━━━━━━━━━━━━━━━━━━━━━━━┳━━━━━━━━━━━━━━━┓\n",
       "┃<span style=\"font-weight: bold\"> Layer (type)                    </span>┃<span style=\"font-weight: bold\"> Output Shape           </span>┃<span style=\"font-weight: bold\">       Param # </span>┃\n",
       "┡━━━━━━━━━━━━━━━━━━━━━━━━━━━━━━━━━╇━━━━━━━━━━━━━━━━━━━━━━━━╇━━━━━━━━━━━━━━━┩\n",
       "│ conv1d_327 (<span style=\"color: #0087ff; text-decoration-color: #0087ff\">Conv1D</span>)             │ (<span style=\"color: #00d7ff; text-decoration-color: #00d7ff\">None</span>, <span style=\"color: #00af00; text-decoration-color: #00af00\">13</span>, <span style=\"color: #00af00; text-decoration-color: #00af00\">13</span>)         │           <span style=\"color: #00af00; text-decoration-color: #00af00\">364</span> │\n",
       "├─────────────────────────────────┼────────────────────────┼───────────────┤\n",
       "│ dense_1832 (<span style=\"color: #0087ff; text-decoration-color: #0087ff\">Dense</span>)              │ (<span style=\"color: #00d7ff; text-decoration-color: #00d7ff\">None</span>, <span style=\"color: #00af00; text-decoration-color: #00af00\">13</span>, <span style=\"color: #00af00; text-decoration-color: #00af00\">13</span>)         │           <span style=\"color: #00af00; text-decoration-color: #00af00\">182</span> │\n",
       "├─────────────────────────────────┼────────────────────────┼───────────────┤\n",
       "│ dense_1833 (<span style=\"color: #0087ff; text-decoration-color: #0087ff\">Dense</span>)              │ (<span style=\"color: #00d7ff; text-decoration-color: #00d7ff\">None</span>, <span style=\"color: #00af00; text-decoration-color: #00af00\">13</span>, <span style=\"color: #00af00; text-decoration-color: #00af00\">13</span>)         │           <span style=\"color: #00af00; text-decoration-color: #00af00\">182</span> │\n",
       "├─────────────────────────────────┼────────────────────────┼───────────────┤\n",
       "│ dense_1834 (<span style=\"color: #0087ff; text-decoration-color: #0087ff\">Dense</span>)              │ (<span style=\"color: #00d7ff; text-decoration-color: #00d7ff\">None</span>, <span style=\"color: #00af00; text-decoration-color: #00af00\">13</span>, <span style=\"color: #00af00; text-decoration-color: #00af00\">13</span>)         │           <span style=\"color: #00af00; text-decoration-color: #00af00\">182</span> │\n",
       "├─────────────────────────────────┼────────────────────────┼───────────────┤\n",
       "│ dense_1835 (<span style=\"color: #0087ff; text-decoration-color: #0087ff\">Dense</span>)              │ (<span style=\"color: #00d7ff; text-decoration-color: #00d7ff\">None</span>, <span style=\"color: #00af00; text-decoration-color: #00af00\">13</span>, <span style=\"color: #00af00; text-decoration-color: #00af00\">13</span>)         │           <span style=\"color: #00af00; text-decoration-color: #00af00\">182</span> │\n",
       "├─────────────────────────────────┼────────────────────────┼───────────────┤\n",
       "│ max_pooling1d_327               │ (<span style=\"color: #00d7ff; text-decoration-color: #00d7ff\">None</span>, <span style=\"color: #00af00; text-decoration-color: #00af00\">6</span>, <span style=\"color: #00af00; text-decoration-color: #00af00\">13</span>)          │             <span style=\"color: #00af00; text-decoration-color: #00af00\">0</span> │\n",
       "│ (<span style=\"color: #0087ff; text-decoration-color: #0087ff\">MaxPooling1D</span>)                  │                        │               │\n",
       "├─────────────────────────────────┼────────────────────────┼───────────────┤\n",
       "│ flatten_424 (<span style=\"color: #0087ff; text-decoration-color: #0087ff\">Flatten</span>)           │ (<span style=\"color: #00d7ff; text-decoration-color: #00d7ff\">None</span>, <span style=\"color: #00af00; text-decoration-color: #00af00\">78</span>)             │             <span style=\"color: #00af00; text-decoration-color: #00af00\">0</span> │\n",
       "├─────────────────────────────────┼────────────────────────┼───────────────┤\n",
       "│ dense_1836 (<span style=\"color: #0087ff; text-decoration-color: #0087ff\">Dense</span>)              │ (<span style=\"color: #00d7ff; text-decoration-color: #00d7ff\">None</span>, <span style=\"color: #00af00; text-decoration-color: #00af00\">15</span>)             │         <span style=\"color: #00af00; text-decoration-color: #00af00\">1,185</span> │\n",
       "└─────────────────────────────────┴────────────────────────┴───────────────┘\n",
       "</pre>\n"
      ],
      "text/plain": [
       "┏━━━━━━━━━━━━━━━━━━━━━━━━━━━━━━━━━┳━━━━━━━━━━━━━━━━━━━━━━━━┳━━━━━━━━━━━━━━━┓\n",
       "┃\u001b[1m \u001b[0m\u001b[1mLayer (type)                   \u001b[0m\u001b[1m \u001b[0m┃\u001b[1m \u001b[0m\u001b[1mOutput Shape          \u001b[0m\u001b[1m \u001b[0m┃\u001b[1m \u001b[0m\u001b[1m      Param #\u001b[0m\u001b[1m \u001b[0m┃\n",
       "┡━━━━━━━━━━━━━━━━━━━━━━━━━━━━━━━━━╇━━━━━━━━━━━━━━━━━━━━━━━━╇━━━━━━━━━━━━━━━┩\n",
       "│ conv1d_327 (\u001b[38;5;33mConv1D\u001b[0m)             │ (\u001b[38;5;45mNone\u001b[0m, \u001b[38;5;34m13\u001b[0m, \u001b[38;5;34m13\u001b[0m)         │           \u001b[38;5;34m364\u001b[0m │\n",
       "├─────────────────────────────────┼────────────────────────┼───────────────┤\n",
       "│ dense_1832 (\u001b[38;5;33mDense\u001b[0m)              │ (\u001b[38;5;45mNone\u001b[0m, \u001b[38;5;34m13\u001b[0m, \u001b[38;5;34m13\u001b[0m)         │           \u001b[38;5;34m182\u001b[0m │\n",
       "├─────────────────────────────────┼────────────────────────┼───────────────┤\n",
       "│ dense_1833 (\u001b[38;5;33mDense\u001b[0m)              │ (\u001b[38;5;45mNone\u001b[0m, \u001b[38;5;34m13\u001b[0m, \u001b[38;5;34m13\u001b[0m)         │           \u001b[38;5;34m182\u001b[0m │\n",
       "├─────────────────────────────────┼────────────────────────┼───────────────┤\n",
       "│ dense_1834 (\u001b[38;5;33mDense\u001b[0m)              │ (\u001b[38;5;45mNone\u001b[0m, \u001b[38;5;34m13\u001b[0m, \u001b[38;5;34m13\u001b[0m)         │           \u001b[38;5;34m182\u001b[0m │\n",
       "├─────────────────────────────────┼────────────────────────┼───────────────┤\n",
       "│ dense_1835 (\u001b[38;5;33mDense\u001b[0m)              │ (\u001b[38;5;45mNone\u001b[0m, \u001b[38;5;34m13\u001b[0m, \u001b[38;5;34m13\u001b[0m)         │           \u001b[38;5;34m182\u001b[0m │\n",
       "├─────────────────────────────────┼────────────────────────┼───────────────┤\n",
       "│ max_pooling1d_327               │ (\u001b[38;5;45mNone\u001b[0m, \u001b[38;5;34m6\u001b[0m, \u001b[38;5;34m13\u001b[0m)          │             \u001b[38;5;34m0\u001b[0m │\n",
       "│ (\u001b[38;5;33mMaxPooling1D\u001b[0m)                  │                        │               │\n",
       "├─────────────────────────────────┼────────────────────────┼───────────────┤\n",
       "│ flatten_424 (\u001b[38;5;33mFlatten\u001b[0m)           │ (\u001b[38;5;45mNone\u001b[0m, \u001b[38;5;34m78\u001b[0m)             │             \u001b[38;5;34m0\u001b[0m │\n",
       "├─────────────────────────────────┼────────────────────────┼───────────────┤\n",
       "│ dense_1836 (\u001b[38;5;33mDense\u001b[0m)              │ (\u001b[38;5;45mNone\u001b[0m, \u001b[38;5;34m15\u001b[0m)             │         \u001b[38;5;34m1,185\u001b[0m │\n",
       "└─────────────────────────────────┴────────────────────────┴───────────────┘\n"
      ]
     },
     "metadata": {},
     "output_type": "display_data"
    },
    {
     "data": {
      "text/html": [
       "<pre style=\"white-space:pre;overflow-x:auto;line-height:normal;font-family:Menlo,'DejaVu Sans Mono',consolas,'Courier New',monospace\"><span style=\"font-weight: bold\"> Total params: </span><span style=\"color: #00af00; text-decoration-color: #00af00\">6,833</span> (26.70 KB)\n",
       "</pre>\n"
      ],
      "text/plain": [
       "\u001b[1m Total params: \u001b[0m\u001b[38;5;34m6,833\u001b[0m (26.70 KB)\n"
      ]
     },
     "metadata": {},
     "output_type": "display_data"
    },
    {
     "data": {
      "text/html": [
       "<pre style=\"white-space:pre;overflow-x:auto;line-height:normal;font-family:Menlo,'DejaVu Sans Mono',consolas,'Courier New',monospace\"><span style=\"font-weight: bold\"> Trainable params: </span><span style=\"color: #00af00; text-decoration-color: #00af00\">2,277</span> (8.89 KB)\n",
       "</pre>\n"
      ],
      "text/plain": [
       "\u001b[1m Trainable params: \u001b[0m\u001b[38;5;34m2,277\u001b[0m (8.89 KB)\n"
      ]
     },
     "metadata": {},
     "output_type": "display_data"
    },
    {
     "data": {
      "text/html": [
       "<pre style=\"white-space:pre;overflow-x:auto;line-height:normal;font-family:Menlo,'DejaVu Sans Mono',consolas,'Courier New',monospace\"><span style=\"font-weight: bold\"> Non-trainable params: </span><span style=\"color: #00af00; text-decoration-color: #00af00\">0</span> (0.00 B)\n",
       "</pre>\n"
      ],
      "text/plain": [
       "\u001b[1m Non-trainable params: \u001b[0m\u001b[38;5;34m0\u001b[0m (0.00 B)\n"
      ]
     },
     "metadata": {},
     "output_type": "display_data"
    },
    {
     "data": {
      "text/html": [
       "<pre style=\"white-space:pre;overflow-x:auto;line-height:normal;font-family:Menlo,'DejaVu Sans Mono',consolas,'Courier New',monospace\"><span style=\"font-weight: bold\"> Optimizer params: </span><span style=\"color: #00af00; text-decoration-color: #00af00\">4,556</span> (17.80 KB)\n",
       "</pre>\n"
      ],
      "text/plain": [
       "\u001b[1m Optimizer params: \u001b[0m\u001b[38;5;34m4,556\u001b[0m (17.80 KB)\n"
      ]
     },
     "metadata": {},
     "output_type": "display_data"
    }
   ],
   "source": [
    "model.summary()"
   ]
  },
  {
   "cell_type": "code",
   "execution_count": 158,
   "id": "4c2e20b7-6f5b-43a4-a68e-40c27b23dd81",
   "metadata": {},
   "outputs": [],
   "source": [
    "model.compile(loss='categorical_crossentropy', optimizer='adam', metrics=['accuracy'])"
   ]
  },
  {
   "cell_type": "code",
   "execution_count": 159,
   "id": "eb7a8fdb-2e98-46db-a089-a7e2b46c58b9",
   "metadata": {},
   "outputs": [],
   "source": [
    "# Assuming X_train and y_train are your input data and labels\n",
    "# One-hot encode y_train\n",
    "y_train_one_hot = to_categorical(y_train, num_classes=15)"
   ]
  },
  {
   "cell_type": "code",
   "execution_count": 160,
   "id": "224ff655-5998-4fee-8457-8ef90d090401",
   "metadata": {},
   "outputs": [
    {
     "name": "stdout",
     "output_type": "stream",
     "text": [
      "X_train shape: (17212, 15, 9)\n",
      "y_train_one_hot shape: (17212, 15)\n"
     ]
    }
   ],
   "source": [
    "# Check shapes\n",
    "print(f'X_train shape: {X_train.shape}')\n",
    "print(f'y_train_one_hot shape: {y_train_one_hot.shape}')"
   ]
  },
  {
   "cell_type": "code",
   "execution_count": 161,
   "id": "a54521cd-c836-4155-8612-07ce602cff52",
   "metadata": {},
   "outputs": [
    {
     "name": "stdout",
     "output_type": "stream",
     "text": [
      "Epoch 1/97\n",
      "24/24 - 1s - 24ms/step - accuracy: 0.8232 - loss: 0.4904\n",
      "Epoch 2/97\n",
      "24/24 - 0s - 4ms/step - accuracy: 0.8290 - loss: 0.4755\n",
      "Epoch 3/97\n",
      "24/24 - 0s - 4ms/step - accuracy: 0.8294 - loss: 0.4694\n",
      "Epoch 4/97\n",
      "24/24 - 0s - 4ms/step - accuracy: 0.8310 - loss: 0.4645\n",
      "Epoch 5/97\n",
      "24/24 - 0s - 4ms/step - accuracy: 0.8317 - loss: 0.4612\n",
      "Epoch 6/97\n",
      "24/24 - 0s - 4ms/step - accuracy: 0.8328 - loss: 0.4579\n",
      "Epoch 7/97\n",
      "24/24 - 0s - 4ms/step - accuracy: 0.8342 - loss: 0.4552\n",
      "Epoch 8/97\n",
      "24/24 - 0s - 4ms/step - accuracy: 0.8353 - loss: 0.4524\n",
      "Epoch 9/97\n",
      "24/24 - 0s - 4ms/step - accuracy: 0.8351 - loss: 0.4508\n",
      "Epoch 10/97\n",
      "24/24 - 0s - 4ms/step - accuracy: 0.8374 - loss: 0.4485\n",
      "Epoch 11/97\n",
      "24/24 - 0s - 4ms/step - accuracy: 0.8384 - loss: 0.4464\n",
      "Epoch 12/97\n",
      "24/24 - 0s - 4ms/step - accuracy: 0.8388 - loss: 0.4445\n",
      "Epoch 13/97\n",
      "24/24 - 0s - 4ms/step - accuracy: 0.8394 - loss: 0.4415\n",
      "Epoch 14/97\n",
      "24/24 - 0s - 4ms/step - accuracy: 0.8406 - loss: 0.4384\n",
      "Epoch 15/97\n",
      "24/24 - 0s - 4ms/step - accuracy: 0.8404 - loss: 0.4372\n",
      "Epoch 16/97\n",
      "24/24 - 0s - 4ms/step - accuracy: 0.8414 - loss: 0.4324\n",
      "Epoch 17/97\n",
      "24/24 - 0s - 4ms/step - accuracy: 0.8398 - loss: 0.4300\n",
      "Epoch 18/97\n",
      "24/24 - 0s - 4ms/step - accuracy: 0.8426 - loss: 0.4264\n",
      "Epoch 19/97\n",
      "24/24 - 0s - 4ms/step - accuracy: 0.8427 - loss: 0.4253\n",
      "Epoch 20/97\n",
      "24/24 - 0s - 4ms/step - accuracy: 0.8441 - loss: 0.4225\n",
      "Epoch 21/97\n",
      "24/24 - 0s - 4ms/step - accuracy: 0.8436 - loss: 0.4203\n",
      "Epoch 22/97\n",
      "24/24 - 0s - 4ms/step - accuracy: 0.8440 - loss: 0.4191\n",
      "Epoch 23/97\n",
      "24/24 - 0s - 4ms/step - accuracy: 0.8444 - loss: 0.4182\n",
      "Epoch 24/97\n",
      "24/24 - 0s - 4ms/step - accuracy: 0.8439 - loss: 0.4162\n",
      "Epoch 25/97\n",
      "24/24 - 0s - 4ms/step - accuracy: 0.8445 - loss: 0.4163\n",
      "Epoch 26/97\n",
      "24/24 - 0s - 4ms/step - accuracy: 0.8457 - loss: 0.4143\n",
      "Epoch 27/97\n",
      "24/24 - 0s - 4ms/step - accuracy: 0.8466 - loss: 0.4121\n",
      "Epoch 28/97\n",
      "24/24 - 0s - 4ms/step - accuracy: 0.8473 - loss: 0.4112\n",
      "Epoch 29/97\n",
      "24/24 - 0s - 4ms/step - accuracy: 0.8482 - loss: 0.4095\n",
      "Epoch 30/97\n",
      "24/24 - 0s - 4ms/step - accuracy: 0.8474 - loss: 0.4086\n",
      "Epoch 31/97\n",
      "24/24 - 0s - 4ms/step - accuracy: 0.8495 - loss: 0.4081\n",
      "Epoch 32/97\n",
      "24/24 - 0s - 4ms/step - accuracy: 0.8473 - loss: 0.4060\n",
      "Epoch 33/97\n",
      "24/24 - 0s - 4ms/step - accuracy: 0.8477 - loss: 0.4049\n",
      "Epoch 34/97\n",
      "24/24 - 0s - 4ms/step - accuracy: 0.8489 - loss: 0.4047\n",
      "Epoch 35/97\n",
      "24/24 - 0s - 4ms/step - accuracy: 0.8485 - loss: 0.4032\n",
      "Epoch 36/97\n",
      "24/24 - 0s - 4ms/step - accuracy: 0.8494 - loss: 0.4031\n",
      "Epoch 37/97\n",
      "24/24 - 0s - 4ms/step - accuracy: 0.8495 - loss: 0.4017\n",
      "Epoch 38/97\n",
      "24/24 - 0s - 4ms/step - accuracy: 0.8495 - loss: 0.4009\n",
      "Epoch 39/97\n",
      "24/24 - 0s - 4ms/step - accuracy: 0.8499 - loss: 0.3992\n",
      "Epoch 40/97\n",
      "24/24 - 0s - 4ms/step - accuracy: 0.8509 - loss: 0.3988\n",
      "Epoch 41/97\n",
      "24/24 - 0s - 4ms/step - accuracy: 0.8509 - loss: 0.3974\n",
      "Epoch 42/97\n",
      "24/24 - 0s - 4ms/step - accuracy: 0.8531 - loss: 0.3958\n",
      "Epoch 43/97\n",
      "24/24 - 0s - 4ms/step - accuracy: 0.8531 - loss: 0.3955\n",
      "Epoch 44/97\n",
      "24/24 - 0s - 4ms/step - accuracy: 0.8532 - loss: 0.3952\n",
      "Epoch 45/97\n",
      "24/24 - 0s - 4ms/step - accuracy: 0.8527 - loss: 0.3934\n",
      "Epoch 46/97\n",
      "24/24 - 0s - 4ms/step - accuracy: 0.8521 - loss: 0.3927\n",
      "Epoch 47/97\n",
      "24/24 - 0s - 4ms/step - accuracy: 0.8527 - loss: 0.3930\n",
      "Epoch 48/97\n",
      "24/24 - 0s - 4ms/step - accuracy: 0.8542 - loss: 0.3904\n",
      "Epoch 49/97\n",
      "24/24 - 0s - 4ms/step - accuracy: 0.8544 - loss: 0.3892\n",
      "Epoch 50/97\n",
      "24/24 - 0s - 4ms/step - accuracy: 0.8559 - loss: 0.3873\n",
      "Epoch 51/97\n",
      "24/24 - 0s - 4ms/step - accuracy: 0.8563 - loss: 0.3868\n",
      "Epoch 52/97\n",
      "24/24 - 0s - 4ms/step - accuracy: 0.8562 - loss: 0.3851\n",
      "Epoch 53/97\n",
      "24/24 - 0s - 4ms/step - accuracy: 0.8577 - loss: 0.3839\n",
      "Epoch 54/97\n",
      "24/24 - 0s - 4ms/step - accuracy: 0.8588 - loss: 0.3828\n",
      "Epoch 55/97\n",
      "24/24 - 0s - 4ms/step - accuracy: 0.8597 - loss: 0.3817\n",
      "Epoch 56/97\n",
      "24/24 - 0s - 4ms/step - accuracy: 0.8585 - loss: 0.3800\n",
      "Epoch 57/97\n",
      "24/24 - 0s - 4ms/step - accuracy: 0.8581 - loss: 0.3804\n",
      "Epoch 58/97\n",
      "24/24 - 0s - 4ms/step - accuracy: 0.8596 - loss: 0.3778\n",
      "Epoch 59/97\n",
      "24/24 - 0s - 4ms/step - accuracy: 0.8611 - loss: 0.3770\n",
      "Epoch 60/97\n",
      "24/24 - 0s - 4ms/step - accuracy: 0.8640 - loss: 0.3748\n",
      "Epoch 61/97\n",
      "24/24 - 0s - 4ms/step - accuracy: 0.8636 - loss: 0.3736\n",
      "Epoch 62/97\n",
      "24/24 - 0s - 4ms/step - accuracy: 0.8645 - loss: 0.3733\n",
      "Epoch 63/97\n",
      "24/24 - 0s - 4ms/step - accuracy: 0.8654 - loss: 0.3703\n",
      "Epoch 64/97\n",
      "24/24 - 0s - 4ms/step - accuracy: 0.8659 - loss: 0.3705\n",
      "Epoch 65/97\n",
      "24/24 - 0s - 4ms/step - accuracy: 0.8639 - loss: 0.3712\n",
      "Epoch 66/97\n",
      "24/24 - 0s - 4ms/step - accuracy: 0.8670 - loss: 0.3680\n",
      "Epoch 67/97\n",
      "24/24 - 0s - 4ms/step - accuracy: 0.8683 - loss: 0.3656\n",
      "Epoch 68/97\n",
      "24/24 - 0s - 4ms/step - accuracy: 0.8685 - loss: 0.3655\n",
      "Epoch 69/97\n",
      "24/24 - 0s - 4ms/step - accuracy: 0.8685 - loss: 0.3640\n",
      "Epoch 70/97\n",
      "24/24 - 0s - 4ms/step - accuracy: 0.8690 - loss: 0.3620\n",
      "Epoch 71/97\n",
      "24/24 - 0s - 4ms/step - accuracy: 0.8697 - loss: 0.3609\n",
      "Epoch 72/97\n",
      "24/24 - 0s - 4ms/step - accuracy: 0.8706 - loss: 0.3595\n",
      "Epoch 73/97\n",
      "24/24 - 0s - 4ms/step - accuracy: 0.8704 - loss: 0.3583\n",
      "Epoch 74/97\n",
      "24/24 - 0s - 4ms/step - accuracy: 0.8708 - loss: 0.3577\n",
      "Epoch 75/97\n",
      "24/24 - 0s - 4ms/step - accuracy: 0.8715 - loss: 0.3566\n",
      "Epoch 76/97\n",
      "24/24 - 0s - 4ms/step - accuracy: 0.8707 - loss: 0.3543\n",
      "Epoch 77/97\n",
      "24/24 - 0s - 4ms/step - accuracy: 0.8725 - loss: 0.3531\n",
      "Epoch 78/97\n",
      "24/24 - 0s - 4ms/step - accuracy: 0.8726 - loss: 0.3508\n",
      "Epoch 79/97\n",
      "24/24 - 0s - 4ms/step - accuracy: 0.8749 - loss: 0.3489\n",
      "Epoch 80/97\n",
      "24/24 - 0s - 4ms/step - accuracy: 0.8747 - loss: 0.3488\n",
      "Epoch 81/97\n",
      "24/24 - 0s - 4ms/step - accuracy: 0.8747 - loss: 0.3465\n",
      "Epoch 82/97\n",
      "24/24 - 0s - 4ms/step - accuracy: 0.8746 - loss: 0.3455\n",
      "Epoch 83/97\n",
      "24/24 - 0s - 4ms/step - accuracy: 0.8761 - loss: 0.3439\n",
      "Epoch 84/97\n",
      "24/24 - 0s - 4ms/step - accuracy: 0.8767 - loss: 0.3424\n",
      "Epoch 85/97\n",
      "24/24 - 0s - 4ms/step - accuracy: 0.8773 - loss: 0.3417\n",
      "Epoch 86/97\n",
      "24/24 - 0s - 4ms/step - accuracy: 0.8781 - loss: 0.3393\n",
      "Epoch 87/97\n",
      "24/24 - 0s - 4ms/step - accuracy: 0.8779 - loss: 0.3378\n",
      "Epoch 88/97\n",
      "24/24 - 0s - 4ms/step - accuracy: 0.8793 - loss: 0.3353\n",
      "Epoch 89/97\n",
      "24/24 - 0s - 4ms/step - accuracy: 0.8781 - loss: 0.3374\n",
      "Epoch 90/97\n",
      "24/24 - 0s - 4ms/step - accuracy: 0.8799 - loss: 0.3321\n",
      "Epoch 91/97\n",
      "24/24 - 0s - 4ms/step - accuracy: 0.8804 - loss: 0.3307\n",
      "Epoch 92/97\n",
      "24/24 - 0s - 4ms/step - accuracy: 0.8817 - loss: 0.3295\n",
      "Epoch 93/97\n",
      "24/24 - 0s - 4ms/step - accuracy: 0.8821 - loss: 0.3289\n",
      "Epoch 94/97\n",
      "24/24 - 0s - 4ms/step - accuracy: 0.8822 - loss: 0.3279\n",
      "Epoch 95/97\n",
      "24/24 - 0s - 4ms/step - accuracy: 0.8840 - loss: 0.3242\n",
      "Epoch 96/97\n",
      "24/24 - 0s - 4ms/step - accuracy: 0.8827 - loss: 0.3249\n",
      "Epoch 97/97\n",
      "24/24 - 0s - 4ms/step - accuracy: 0.8843 - loss: 0.3218\n"
     ]
    },
    {
     "data": {
      "text/plain": [
       "<keras.src.callbacks.history.History at 0x42629bf20>"
      ]
     },
     "execution_count": 161,
     "metadata": {},
     "output_type": "execute_result"
    }
   ],
   "source": [
    "model.fit(X_train, y_train_one_hot, batch_size=744, epochs=97, verbose=2)"
   ]
  },
  {
   "cell_type": "code",
   "execution_count": 162,
   "id": "35cafbb8-9065-4bf7-be21-c8a01096a342",
   "metadata": {},
   "outputs": [],
   "source": [
    "# Change this to Weather true/false\n",
    "stations = {\n",
    "0: 'BASEL',\n",
    "1: 'BELGRADE',\n",
    "2: 'BUDAPEST',\n",
    "3: 'DEBILT',\n",
    "4: 'DUSSELDORF',\n",
    "5: 'HEATHROW',\n",
    "6: 'KASSEL',\n",
    "7: 'LJUBLJANA',\n",
    "8: 'MAASTRICHT',\n",
    "9: 'MADRID',\n",
    "10: 'MUNCHENB',\n",
    "11: 'OSLO',\n",
    "12: 'SONNBLICK',\n",
    "13: 'STOCKHOLM',\n",
    "14: 'VALENTIA'\n",
    "}"
   ]
  },
  {
   "cell_type": "code",
   "execution_count": 163,
   "id": "6d143638-c54a-482f-9b74-55e757d0ce54",
   "metadata": {},
   "outputs": [
    {
     "name": "stdout",
     "output_type": "stream",
     "text": [
      "Unique classes in y_test: [ 0  1  2  3  4  5  6  7  8  9 10 11 13 14]\n"
     ]
    }
   ],
   "source": [
    "print(\"Unique classes in y_test:\", np.unique(y_test))"
   ]
  },
  {
   "cell_type": "code",
   "execution_count": 164,
   "id": "c3e26505-9181-4af5-973f-61d8198deee7",
   "metadata": {},
   "outputs": [],
   "source": [
    "def confusion_matrix(y_true, y_pred, stations):\n",
    "    # Check if y_true and y_pred are one-hot encoded or already class indices\n",
    "    if y_true.ndim == 1:\n",
    "        y_true_labels = y_true\n",
    "    else:\n",
    "        y_true_labels = np.argmax(y_true, axis=1)\n",
    "    \n",
    "    if y_pred.ndim == 1:\n",
    "        y_pred_labels = y_pred\n",
    "    else:\n",
    "        y_pred_labels = np.argmax(y_pred, axis=1)\n",
    "        \n",
    "    # Map numeric labels to activity names\n",
    "    y_true_series = pd.Series([stations[y] for y in y_true_labels])\n",
    "    y_pred_series = pd.Series([stations[y] for y in y_pred_labels])\n",
    "    \n",
    "    return pd.crosstab(y_true_series, y_pred_series, rownames=['True'], colnames=['Pred'])"
   ]
  },
  {
   "cell_type": "code",
   "execution_count": 165,
   "id": "53e203a8-ee87-41c4-ada6-a885d1d6d42c",
   "metadata": {},
   "outputs": [],
   "source": [
    "# Before making predictions, convert y_test to one-hot format\n",
    "y_test_one_hot = to_categorical(y_test, num_classes=15)"
   ]
  },
  {
   "cell_type": "code",
   "execution_count": 166,
   "id": "cca9b538-18e0-40b5-a7af-dbb45e822a24",
   "metadata": {},
   "outputs": [
    {
     "name": "stdout",
     "output_type": "stream",
     "text": [
      "\u001b[1m180/180\u001b[0m \u001b[32m━━━━━━━━━━━━━━━━━━━━\u001b[0m\u001b[37m\u001b[0m \u001b[1m0s\u001b[0m 389us/step\n"
     ]
    }
   ],
   "source": [
    "y_pred = model.predict(X_test)"
   ]
  },
  {
   "cell_type": "code",
   "execution_count": 167,
   "id": "91c8df42-5c66-46d9-bf73-0434930a7232",
   "metadata": {},
   "outputs": [
    {
     "name": "stdout",
     "output_type": "stream",
     "text": [
      "Accuracy: 87.00%\n"
     ]
    }
   ],
   "source": [
    "y_test_labels = np.argmax(y_test_one_hot, axis=1)  \n",
    "y_pred_labels = np.argmax(y_pred, axis=1)  \n",
    "\n",
    "# Manually calculate accuracy\n",
    "correct_predictions = np.sum(y_test_labels == y_pred_labels)\n",
    "total_samples = len(y_test_labels)\n",
    "accuracy = correct_predictions / total_samples\n",
    "\n",
    "print(f'Accuracy: {accuracy * 100:.2f}%')"
   ]
  },
  {
   "cell_type": "code",
   "execution_count": 168,
   "id": "77fa7ad4-0db7-402e-8b50-8e448dd36ffa",
   "metadata": {},
   "outputs": [
    {
     "name": "stdout",
     "output_type": "stream",
     "text": [
      "Pred        BASEL  BELGRADE  BUDAPEST  DEBILT  DUSSELDORF  HEATHROW  KASSEL  \\\n",
      "True                                                                          \n",
      "BASEL        3489       132        14       7           4        13       0   \n",
      "BELGRADE      157       915        14       3           1         1       0   \n",
      "BUDAPEST       43        47       118       3           2         4       0   \n",
      "DEBILT         21         2        12      39           1         3       0   \n",
      "DUSSELDORF      4         4         5       6          10         3       0   \n",
      "HEATHROW       11         6         5       4           2        54       0   \n",
      "KASSEL          3         4         2       2           0         1       2   \n",
      "LJUBLJANA       6         4         4       0           0         3       1   \n",
      "MAASTRICHT      2         0         0       0           0         1       1   \n",
      "MADRID         13        23         9       2           1        19       0   \n",
      "MUNCHENB       13         1         1       0           0         0       0   \n",
      "OSLO            1         1         0       0           0         1       0   \n",
      "STOCKHOLM       3         0         0       0           0         0       0   \n",
      "VALENTIA        2         0         0       0           0         0       0   \n",
      "\n",
      "Pred        LJUBLJANA  MAASTRICHT  MADRID  MUNCHENB  OSLO  \n",
      "True                                                       \n",
      "BASEL               6           1      34         0     0  \n",
      "BELGRADE            2           0       7         0     0  \n",
      "BUDAPEST            1           0       7         0     0  \n",
      "DEBILT              1           0       1         0     0  \n",
      "DUSSELDORF          0           0       2         0     0  \n",
      "HEATHROW            1           0       7         0     0  \n",
      "KASSEL              1           0       0         0     0  \n",
      "LJUBLJANA          37           0       5         0     0  \n",
      "MAASTRICHT          0           0       1         0     0  \n",
      "MADRID              9           0     323         0     0  \n",
      "MUNCHENB            1           0       0         1     0  \n",
      "OSLO                0           0       0         0     4  \n",
      "STOCKHOLM           0           0       1         0     0  \n",
      "VALENTIA            0           0       0         0     0  \n"
     ]
    }
   ],
   "source": [
    "cm = confusion_matrix(y_test, y_pred, stations)\n",
    "print(cm)"
   ]
  },
  {
   "cell_type": "code",
   "execution_count": null,
   "id": "c3771d77-8984-4fb3-9f99-844622fc9b13",
   "metadata": {},
   "outputs": [],
   "source": []
  }
 ],
 "metadata": {
  "kernelspec": {
   "display_name": "Python 3 (ipykernel)",
   "language": "python",
   "name": "python3"
  },
  "language_info": {
   "codemirror_mode": {
    "name": "ipython",
    "version": 3
   },
   "file_extension": ".py",
   "mimetype": "text/x-python",
   "name": "python",
   "nbconvert_exporter": "python",
   "pygments_lexer": "ipython3",
   "version": "3.12.4"
  }
 },
 "nbformat": 4,
 "nbformat_minor": 5
}
