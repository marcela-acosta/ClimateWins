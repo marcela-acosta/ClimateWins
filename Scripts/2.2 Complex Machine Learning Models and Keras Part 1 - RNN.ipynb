{
 "cells": [
  {
   "cell_type": "markdown",
   "id": "704a2857",
   "metadata": {},
   "source": [
    "# 1. Importing data and libraries"
   ]
  },
  {
   "cell_type": "code",
   "execution_count": 6,
   "id": "8c1f2390",
   "metadata": {},
   "outputs": [],
   "source": [
    "import pandas as pd\n",
    "import numpy as np\n",
    "import seaborn as sns\n",
    "import os\n",
    "import operator\n",
    "import matplotlib.pyplot as plt\n",
    "from sklearn.preprocessing import LabelEncoder\n",
    "import tensorflow as tf\n",
    "from tensorflow import keras\n",
    "from numpy import unique\n",
    "from numpy import reshape\n",
    "from keras.models import Sequential\n",
    "from keras.layers import Conv1D, Conv2D, Dense, BatchNormalization, Flatten, MaxPooling1D\n",
    "from sklearn.model_selection import train_test_split\n",
    "from sklearn.preprocessing import LabelEncoder\n",
    "from keras.layers import LSTM\n",
    "from keras.layers import Dense, Dropout"
   ]
  },
  {
   "cell_type": "code",
   "execution_count": 7,
   "id": "49e493c9",
   "metadata": {},
   "outputs": [],
   "source": [
    "# Create a path\n",
    "path = r'/Users/marcela/Library/CloudStorage/OneDrive-Personal/CF/Machine Learning/Achievement/Data Sets'"
   ]
  },
  {
   "cell_type": "code",
   "execution_count": 8,
   "id": "3ab4839c",
   "metadata": {},
   "outputs": [],
   "source": [
    "# Delimiting columns displayed\n",
    "pd.options.display.max_columns = None"
   ]
  },
  {
   "cell_type": "code",
   "execution_count": 9,
   "id": "e1befa4c",
   "metadata": {},
   "outputs": [],
   "source": [
    "# Import pleasant weather answers data set\n",
    "df_pleasant_weather = pd.read_csv(os.path.join(path, 'Dataset-Answers-Weather_Prediction_Pleasant_Weather.csv'), index_col = False)"
   ]
  },
  {
   "cell_type": "code",
   "execution_count": 10,
   "id": "fa93ce8f",
   "metadata": {},
   "outputs": [
    {
     "data": {
      "text/plain": [
       "(22950, 16)"
      ]
     },
     "execution_count": 10,
     "metadata": {},
     "output_type": "execute_result"
    }
   ],
   "source": [
    "df_pleasant_weather.shape"
   ]
  },
  {
   "cell_type": "code",
   "execution_count": 11,
   "id": "6ee3e279",
   "metadata": {},
   "outputs": [],
   "source": [
    "# Import unscaled mean temperatures data set\n",
    "df_unscaled = pd.read_csv(os.path.join(path, 'Dataset-weather-prediction-dataset-processed.csv'), index_col = False)"
   ]
  },
  {
   "cell_type": "code",
   "execution_count": 12,
   "id": "ed1310f8",
   "metadata": {},
   "outputs": [
    {
     "data": {
      "text/plain": [
       "(22950, 170)"
      ]
     },
     "execution_count": 12,
     "metadata": {},
     "output_type": "execute_result"
    }
   ],
   "source": [
    "df_unscaled.shape"
   ]
  },
  {
   "cell_type": "markdown",
   "id": "d8fa68fd",
   "metadata": {},
   "source": [
    "# 2. Data Wrangling"
   ]
  },
  {
   "cell_type": "code",
   "execution_count": 13,
   "id": "bc94ea74",
   "metadata": {},
   "outputs": [],
   "source": [
    "# Dropping all columns regarding Gdansk, Roma, Tours from unscaled, as they aren't included in pleasant_weather\n",
    "columns_to_drop = ['GDANSK_cloud_cover', 'GDANSK_humidity', 'GDANSK_precipitation', \n",
    "                   'GDANSK_snow_depth', 'GDANSK_temp_mean', 'GDANSK_temp_min', \n",
    "                   'GDANSK_temp_max', 'ROMA_cloud_cover', 'ROMA_wind_speed', \n",
    "                   'ROMA_humidity', 'ROMA_pressure', 'ROMA_sunshine', 'ROMA_temp_mean',\n",
    "                   'TOURS_wind_speed', 'TOURS_humidity', 'TOURS_pressure',\n",
    "                   'TOURS_global_radiation', 'TOURS_precipitation', 'TOURS_temp_mean', \n",
    "                   'TOURS_temp_min', 'TOURS_temp_max']\n",
    "\n",
    "# Using the drop() method to drop the specified columns\n",
    "df_unscaled.drop(columns=columns_to_drop, inplace=True)"
   ]
  },
  {
   "cell_type": "code",
   "execution_count": 14,
   "id": "d70c2941",
   "metadata": {},
   "outputs": [
    {
     "data": {
      "text/plain": [
       "(22950, 149)"
      ]
     },
     "execution_count": 14,
     "metadata": {},
     "output_type": "execute_result"
    }
   ],
   "source": [
    "df_unscaled.shape "
   ]
  },
  {
   "cell_type": "code",
   "execution_count": 15,
   "id": "a710dcff",
   "metadata": {},
   "outputs": [],
   "source": [
    "df_unscaled.drop(columns = ['DATE', 'MONTH'], inplace = True)"
   ]
  },
  {
   "cell_type": "code",
   "execution_count": 16,
   "id": "7c3500d0",
   "metadata": {},
   "outputs": [],
   "source": [
    "df_pleasant_weather.drop(columns = 'DATE', inplace = True) "
   ]
  },
  {
   "cell_type": "code",
   "execution_count": 17,
   "id": "6dac13ce",
   "metadata": {},
   "outputs": [
    {
     "data": {
      "text/plain": [
       "(22950, 15)"
      ]
     },
     "execution_count": 17,
     "metadata": {},
     "output_type": "execute_result"
    }
   ],
   "source": [
    "df_pleasant_weather.shape"
   ]
  },
  {
   "cell_type": "code",
   "execution_count": 18,
   "id": "250d5c69",
   "metadata": {},
   "outputs": [],
   "source": [
    "further_drops = ['BASEL_snow_depth',  'DUSSELDORF_snow_depth', 'HEATHROW_snow_depth',\n",
    "                  'MUNCHENB_snow_depth', 'OSLO_snow_depth',  'VALENTIA_snow_depth',\n",
    "                 'BASEL_wind_speed', 'DEBILT_wind_speed', 'DUSSELDORF_wind_speed',\n",
    "                  'KASSEL_wind_speed', 'LJUBLJANA_wind_speed',  'MAASTRICHT_wind_speed',\n",
    "                  'MADRID_wind_speed', 'OSLO_wind_speed','SONNBLICK_wind_speed',]\n",
    "\n",
    "df_unscaled.drop(columns=further_drops, inplace=True)"
   ]
  },
  {
   "cell_type": "code",
   "execution_count": 19,
   "id": "bd39ae1b",
   "metadata": {},
   "outputs": [
    {
     "data": {
      "text/plain": [
       "53"
      ]
     },
     "execution_count": 19,
     "metadata": {},
     "output_type": "execute_result"
    }
   ],
   "source": [
    "# Filling missing observations using nearby stations with similar weather:\n",
    "# Ljubljana -> Kassel\n",
    "# Sonnblick -> Munchen\n",
    "# Oslo -> Stockholm\n",
    "\n",
    "df_unscaled.columns.get_loc('HEATHROW_temp_max')"
   ]
  },
  {
   "cell_type": "code",
   "execution_count": 20,
   "id": "e65e95e1",
   "metadata": {},
   "outputs": [
    {
     "data": {
      "text/plain": [
       "90"
      ]
     },
     "execution_count": 20,
     "metadata": {},
     "output_type": "execute_result"
    }
   ],
   "source": [
    "df_unscaled.columns.get_loc('MUNCHENB_humidity')"
   ]
  },
  {
   "cell_type": "code",
   "execution_count": 21,
   "id": "8efecd12",
   "metadata": {},
   "outputs": [
    {
     "data": {
      "text/plain": [
       "115"
      ]
     },
     "execution_count": 21,
     "metadata": {},
     "output_type": "execute_result"
    }
   ],
   "source": [
    "df_unscaled.columns.get_loc('STOCKHOLM_cloud_cover')"
   ]
  },
  {
   "cell_type": "code",
   "execution_count": 22,
   "id": "86663c4c",
   "metadata": {},
   "outputs": [
    {
     "data": {
      "text/plain": [
       "['BASEL_cloud_cover',\n",
       " 'BASEL_humidity',\n",
       " 'BASEL_pressure',\n",
       " 'BASEL_global_radiation',\n",
       " 'BASEL_precipitation',\n",
       " 'BASEL_sunshine',\n",
       " 'BASEL_temp_mean',\n",
       " 'BASEL_temp_min',\n",
       " 'BASEL_temp_max',\n",
       " 'BELGRADE_cloud_cover',\n",
       " 'BELGRADE_humidity',\n",
       " 'BELGRADE_pressure',\n",
       " 'BELGRADE_global_radiation',\n",
       " 'BELGRADE_precipitation',\n",
       " 'BELGRADE_sunshine',\n",
       " 'BELGRADE_temp_mean',\n",
       " 'BELGRADE_temp_min',\n",
       " 'BELGRADE_temp_max',\n",
       " 'BUDAPEST_cloud_cover',\n",
       " 'BUDAPEST_humidity',\n",
       " 'BUDAPEST_pressure',\n",
       " 'BUDAPEST_global_radiation',\n",
       " 'BUDAPEST_precipitation',\n",
       " 'BUDAPEST_sunshine',\n",
       " 'BUDAPEST_temp_mean',\n",
       " 'BUDAPEST_temp_min',\n",
       " 'BUDAPEST_temp_max',\n",
       " 'DEBILT_cloud_cover',\n",
       " 'DEBILT_humidity',\n",
       " 'DEBILT_pressure',\n",
       " 'DEBILT_global_radiation',\n",
       " 'DEBILT_precipitation',\n",
       " 'DEBILT_sunshine',\n",
       " 'DEBILT_temp_mean',\n",
       " 'DEBILT_temp_min',\n",
       " 'DEBILT_temp_max',\n",
       " 'DUSSELDORF_cloud_cover',\n",
       " 'DUSSELDORF_humidity',\n",
       " 'DUSSELDORF_pressure',\n",
       " 'DUSSELDORF_global_radiation',\n",
       " 'DUSSELDORF_precipitation',\n",
       " 'DUSSELDORF_sunshine',\n",
       " 'DUSSELDORF_temp_mean',\n",
       " 'DUSSELDORF_temp_min',\n",
       " 'DUSSELDORF_temp_max',\n",
       " 'HEATHROW_cloud_cover',\n",
       " 'HEATHROW_humidity',\n",
       " 'HEATHROW_pressure',\n",
       " 'HEATHROW_global_radiation',\n",
       " 'HEATHROW_precipitation',\n",
       " 'HEATHROW_sunshine',\n",
       " 'HEATHROW_temp_mean',\n",
       " 'HEATHROW_temp_min',\n",
       " 'HEATHROW_temp_max',\n",
       " 'KASSEL_cloud_cover',\n",
       " 'KASSEL_humidity',\n",
       " 'KASSEL_pressure',\n",
       " 'KASSEL_global_radiation',\n",
       " 'KASSEL_precipitation',\n",
       " 'KASSEL_sunshine',\n",
       " 'KASSEL_temp_mean',\n",
       " 'KASSEL_temp_min',\n",
       " 'KASSEL_temp_max',\n",
       " 'LJUBLJANA_cloud_cover',\n",
       " 'LJUBLJANA_humidity',\n",
       " 'LJUBLJANA_pressure',\n",
       " 'LJUBLJANA_global_radiation',\n",
       " 'LJUBLJANA_precipitation',\n",
       " 'LJUBLJANA_sunshine',\n",
       " 'LJUBLJANA_temp_mean',\n",
       " 'LJUBLJANA_temp_min',\n",
       " 'LJUBLJANA_temp_max',\n",
       " 'MAASTRICHT_cloud_cover',\n",
       " 'MAASTRICHT_humidity',\n",
       " 'MAASTRICHT_pressure',\n",
       " 'MAASTRICHT_global_radiation',\n",
       " 'MAASTRICHT_precipitation',\n",
       " 'MAASTRICHT_sunshine',\n",
       " 'MAASTRICHT_temp_mean',\n",
       " 'MAASTRICHT_temp_min',\n",
       " 'MAASTRICHT_temp_max',\n",
       " 'MADRID_cloud_cover',\n",
       " 'MADRID_humidity',\n",
       " 'MADRID_pressure',\n",
       " 'MADRID_global_radiation',\n",
       " 'MADRID_precipitation',\n",
       " 'MADRID_sunshine',\n",
       " 'MADRID_temp_mean',\n",
       " 'MADRID_temp_min',\n",
       " 'MADRID_temp_max',\n",
       " 'MUNCHENB_cloud_cover',\n",
       " 'MUNCHENB_humidity',\n",
       " 'MUNCHENB_pressure',\n",
       " 'MUNCHENB_global_radiation',\n",
       " 'MUNCHENB_precipitation',\n",
       " 'MUNCHENB_sunshine',\n",
       " 'MUNCHENB_temp_mean',\n",
       " 'MUNCHENB_temp_min',\n",
       " 'MUNCHENB_temp_max',\n",
       " 'OSLO_cloud_cover',\n",
       " 'OSLO_humidity',\n",
       " 'OSLO_pressure',\n",
       " 'OSLO_global_radiation',\n",
       " 'OSLO_precipitation',\n",
       " 'OSLO_sunshine',\n",
       " 'OSLO_temp_mean',\n",
       " 'OSLO_temp_min',\n",
       " 'OSLO_temp_max',\n",
       " 'SONNBLICK_cloud_cover',\n",
       " 'SONNBLICK_humidity',\n",
       " 'SONNBLICK_pressure',\n",
       " 'SONNBLICK_global_radiation',\n",
       " 'SONNBLICK_precipitation',\n",
       " 'SONNBLICK_sunshine',\n",
       " 'SONNBLICK_temp_mean',\n",
       " 'SONNBLICK_temp_min',\n",
       " 'SONNBLICK_temp_max',\n",
       " 'STOCKHOLM_cloud_cover',\n",
       " 'STOCKHOLM_humidity',\n",
       " 'STOCKHOLM_pressure',\n",
       " 'STOCKHOLM_global_radiation',\n",
       " 'STOCKHOLM_precipitation',\n",
       " 'STOCKHOLM_sunshine',\n",
       " 'STOCKHOLM_temp_mean',\n",
       " 'STOCKHOLM_temp_min',\n",
       " 'STOCKHOLM_temp_max',\n",
       " 'VALENTIA_cloud_cover',\n",
       " 'VALENTIA_humidity',\n",
       " 'VALENTIA_pressure',\n",
       " 'VALENTIA_global_radiation',\n",
       " 'VALENTIA_precipitation',\n",
       " 'VALENTIA_sunshine',\n",
       " 'VALENTIA_temp_mean',\n",
       " 'VALENTIA_temp_min',\n",
       " 'VALENTIA_temp_max']"
      ]
     },
     "execution_count": 22,
     "metadata": {},
     "output_type": "execute_result"
    }
   ],
   "source": [
    "df_unscaled.insert(54,'KASSEL_cloud_cover', df_unscaled['LJUBLJANA_cloud_cover'])\n",
    "df_unscaled.insert(92,'MUNCHENB_pressure', df_unscaled['SONNBLICK_pressure'])\n",
    "df_unscaled.insert(118, 'STOCKHOLM_humidity', df_unscaled['OSLO_humidity'])\n",
    "df_unscaled.columns.tolist()"
   ]
  },
  {
   "cell_type": "code",
   "execution_count": 23,
   "id": "85c78a7f",
   "metadata": {},
   "outputs": [
    {
     "data": {
      "text/plain": [
       "(22950, 135)"
      ]
     },
     "execution_count": 23,
     "metadata": {},
     "output_type": "execute_result"
    }
   ],
   "source": [
    "df_unscaled.shape"
   ]
  },
  {
   "cell_type": "code",
   "execution_count": 24,
   "id": "8b668ada",
   "metadata": {},
   "outputs": [],
   "source": [
    "df_unscaled.to_pickle(os.path.join(path, 'X_cleaned.pkl'))"
   ]
  },
  {
   "cell_type": "markdown",
   "id": "b336e37c",
   "metadata": {},
   "source": [
    "# 3. Reshaping for ML modeling"
   ]
  },
  {
   "cell_type": "code",
   "execution_count": 25,
   "id": "d1ed7b1d",
   "metadata": {},
   "outputs": [],
   "source": [
    "X = pd.read_pickle(os.path.join(path, 'X_cleaned.pkl'))"
   ]
  },
  {
   "cell_type": "code",
   "execution_count": 26,
   "id": "933a2313",
   "metadata": {},
   "outputs": [
    {
     "data": {
      "text/plain": [
       "(22950, 135)"
      ]
     },
     "execution_count": 26,
     "metadata": {},
     "output_type": "execute_result"
    }
   ],
   "source": [
    "X.shape"
   ]
  },
  {
   "cell_type": "code",
   "execution_count": 27,
   "id": "03b203d0",
   "metadata": {},
   "outputs": [],
   "source": [
    "y = df_pleasant_weather"
   ]
  },
  {
   "cell_type": "code",
   "execution_count": 28,
   "id": "a808a451",
   "metadata": {},
   "outputs": [
    {
     "data": {
      "text/plain": [
       "(22950, 15)"
      ]
     },
     "execution_count": 28,
     "metadata": {},
     "output_type": "execute_result"
    }
   ],
   "source": [
    "y.shape"
   ]
  },
  {
   "cell_type": "code",
   "execution_count": 29,
   "id": "3d07848d",
   "metadata": {},
   "outputs": [],
   "source": [
    "# Turning X and y from a df to arrays\n",
    "X = np.array(X)\n",
    "y = np.array(y)"
   ]
  },
  {
   "cell_type": "code",
   "execution_count": 30,
   "id": "e5d4e17a",
   "metadata": {},
   "outputs": [],
   "source": [
    "X = X.reshape(-1,15,9)"
   ]
  },
  {
   "cell_type": "code",
   "execution_count": 31,
   "id": "ba322868",
   "metadata": {},
   "outputs": [
    {
     "data": {
      "text/plain": [
       "array([[[  7.    ,   0.85  ,   1.018 , ...,   6.5   ,   0.8   ,\n",
       "          10.9   ],\n",
       "        [  1.    ,   0.81  ,   1.0195, ...,   3.7   ,  -0.9   ,\n",
       "           7.9   ],\n",
       "        [  4.    ,   0.67  ,   1.017 , ...,   2.4   ,  -0.4   ,\n",
       "           5.1   ],\n",
       "        ...,\n",
       "        [  4.    ,   0.73  ,   1.0304, ...,  -5.9   ,  -8.5   ,\n",
       "          -3.2   ],\n",
       "        [  5.    ,   0.98  ,   1.0114, ...,   4.2   ,   2.2   ,\n",
       "           4.9   ],\n",
       "        [  5.    ,   0.88  ,   1.0003, ...,   8.5   ,   6.    ,\n",
       "          10.9   ]],\n",
       "\n",
       "       [[  6.    ,   0.84  ,   1.018 , ...,   6.1   ,   3.3   ,\n",
       "          10.1   ],\n",
       "        [  6.    ,   0.84  ,   1.0172, ...,   2.9   ,   2.2   ,\n",
       "           4.4   ],\n",
       "        [  4.    ,   0.67  ,   1.017 , ...,   2.3   ,   1.4   ,\n",
       "           3.1   ],\n",
       "        ...,\n",
       "        [  6.    ,   0.97  ,   1.0292, ...,  -9.5   , -10.5   ,\n",
       "          -8.5   ],\n",
       "        [  5.    ,   0.62  ,   1.0114, ...,   4.    ,   3.    ,\n",
       "           5.    ],\n",
       "        [  7.    ,   0.91  ,   1.0007, ...,   8.9   ,   5.6   ,\n",
       "          12.1   ]],\n",
       "\n",
       "       [[  8.    ,   0.9   ,   1.018 , ...,   8.5   ,   5.1   ,\n",
       "           9.9   ],\n",
       "        [  6.    ,   0.77  ,   1.0179, ...,   3.1   ,  -0.5   ,\n",
       "           6.4   ],\n",
       "        [  4.    ,   0.67  ,   1.017 , ...,   2.7   ,   1.7   ,\n",
       "           5.3   ],\n",
       "        ...,\n",
       "        [  8.    ,   0.93  ,   1.032 , ...,  -9.5   , -10.    ,\n",
       "          -8.9   ],\n",
       "        [  5.    ,   0.69  ,   1.0114, ...,   2.4   ,   1.3   ,\n",
       "           4.1   ],\n",
       "        [  7.    ,   0.91  ,   1.0096, ...,  10.5   ,   8.1   ,\n",
       "          12.9   ]],\n",
       "\n",
       "       ...,\n",
       "\n",
       "       [[  4.    ,   0.76  ,   1.0227, ...,  16.7   ,  13.1   ,\n",
       "          22.4   ],\n",
       "        [  2.    ,   0.68  ,   1.0278, ...,  13.4   ,   8.6   ,\n",
       "          18.2   ],\n",
       "        [  4.    ,   0.67  ,   1.017 , ...,  11.7   ,   7.9   ,\n",
       "          16.2   ],\n",
       "        ...,\n",
       "        [  3.    ,   0.84  ,   1.0263, ...,   3.3   ,   2.1   ,\n",
       "           4.5   ],\n",
       "        [  5.    ,   0.85  ,   1.0059, ...,  13.1   ,  12.1   ,\n",
       "          14.4   ],\n",
       "        [  5.    ,   0.82  ,   1.0142, ...,  10.7   ,   7.9   ,\n",
       "          13.5   ]],\n",
       "\n",
       "       [[  5.    ,   0.8   ,   1.0212, ...,  15.4   ,  11.6   ,\n",
       "          21.1   ],\n",
       "        [  1.    ,   0.68  ,   1.0238, ...,  15.    ,   9.1   ,\n",
       "          20.9   ],\n",
       "        [  4.    ,   0.67  ,   1.017 , ...,  11.7   ,   7.9   ,\n",
       "          16.2   ],\n",
       "        ...,\n",
       "        [  3.    ,   0.84  ,   1.0263, ...,   3.4   ,   2.7   ,\n",
       "           4.1   ],\n",
       "        [  5.    ,   0.94  ,   1.016 , ...,   7.5   ,   5.1   ,\n",
       "          12.4   ],\n",
       "        [  5.    ,   0.82  ,   1.0142, ...,  10.7   ,   7.9   ,\n",
       "          13.5   ]],\n",
       "\n",
       "       [[  5.    ,   0.84  ,   1.0193, ...,  13.5   ,   9.9   ,\n",
       "          19.2   ],\n",
       "        [  4.    ,   0.68  ,   1.0235, ...,  14.4   ,  10.4   ,\n",
       "          18.4   ],\n",
       "        [  4.    ,   0.67  ,   1.017 , ...,  11.7   ,   7.9   ,\n",
       "          16.2   ],\n",
       "        ...,\n",
       "        [  4.    ,   0.84  ,   1.0263, ...,   1.7   ,   0.7   ,\n",
       "           2.7   ],\n",
       "        [  5.    ,   0.97  ,   1.0164, ...,   9.7   ,   5.    ,\n",
       "          12.6   ],\n",
       "        [  5.    ,   0.82  ,   1.0142, ...,  10.7   ,   7.9   ,\n",
       "          13.5   ]]])"
      ]
     },
     "execution_count": 31,
     "metadata": {},
     "output_type": "execute_result"
    }
   ],
   "source": [
    "# Verifying array shape\n",
    "X"
   ]
  },
  {
   "cell_type": "markdown",
   "id": "37a2ea24",
   "metadata": {},
   "source": [
    "# 4. Splitting data (training and test sets)"
   ]
  },
  {
   "cell_type": "code",
   "execution_count": 32,
   "id": "b977e06c",
   "metadata": {},
   "outputs": [],
   "source": [
    "# Split data into training and testing sets\n",
    "X_train, X_test, y_train, y_test = train_test_split(X, y, random_state = 39)"
   ]
  },
  {
   "cell_type": "markdown",
   "id": "31543f05",
   "metadata": {},
   "source": [
    "# 5. Keras Model"
   ]
  },
  {
   "cell_type": "code",
   "execution_count": 33,
   "id": "7de17144",
   "metadata": {},
   "outputs": [],
   "source": [
    "def _read_csv(filename):\n",
    "    return pd.read_csv(filename, delim_whitespace=True, header=None)\n",
    "\n",
    "def load_signals(subset):\n",
    "    signals_data = []\n",
    "\n",
    "    for signal in signals:\n",
    "        filename = f'{path}/{subset}/Inertial Signals/{signal}_{subset}.txt'\n",
    "        signals_data.append(\n",
    "            _read_csv(filename).to_numpy()\n",
    "        ) \n",
    "\n",
    "    # Transpose is used to change the dimensionality of the output,\n",
    "    # aggregating the signals by combination of sample/timestep.\n",
    "    # Resultant shape is (7352 train/2947 test samples, 128 timesteps, 9 signals)\n",
    "    return np.transpose(signals_data, (1, 2, 0))\n",
    "\n",
    "def load_y(subset):\n",
    "    \"\"\"\n",
    "    The objective that we are trying to predict is a integer, from 1 to 6,\n",
    "    that represents a human activity. We return a binary representation of \n",
    "    every sample objective as a 6 bits vector using One Hot Encoding\n",
    "    (https://pandas.pydata.org/pandas-docs/stable/generated/pandas.get_dummies.html)\n",
    "    \"\"\"\n",
    "    filename = f'{path}/{subset}/y_{subset}.txt'\n",
    "    y = _read_csv(filename)[0]\n",
    "\n",
    "    return pd.get_dummies(y).to_numpy()\n",
    "\n",
    "def load_data():\n",
    "    \"\"\"\n",
    "    Obtain the dataset from multiple files.\n",
    "    Returns: X_train, X_test, y_train, y_test\n",
    "    \"\"\"\n",
    "    X_train, X_test = load_signals('train'), load_signals('test')\n",
    "    y_train, y_test = load_y('train'), load_y('test')\n",
    "\n",
    "    return X_train, X_test, y_train, y_test\n",
    "\n",
    "def _count_classes(y):\n",
    "    return len(set([tuple(category) for category in y]))"
   ]
  },
  {
   "cell_type": "code",
   "execution_count": 34,
   "id": "1475629b",
   "metadata": {},
   "outputs": [
    {
     "name": "stderr",
     "output_type": "stream",
     "text": [
      "/opt/anaconda3/lib/python3.12/site-packages/keras/src/layers/rnn/rnn.py:204: UserWarning: Do not pass an `input_shape`/`input_dim` argument to a layer. When using Sequential models, prefer using an `Input(shape)` object as the first layer in the model instead.\n",
      "  super().__init__(**kwargs)\n"
     ]
    }
   ],
   "source": [
    "epochs = 30\n",
    "batch_size = 16\n",
    "n_hidden = 32\n",
    "\n",
    "timesteps = len(X_train[0])\n",
    "input_dim = len(X_train[0][0])\n",
    "n_classes = _count_classes(y_train)\n",
    "\n",
    "model = Sequential()\n",
    "model.add(LSTM(n_hidden, input_shape=(timesteps, input_dim)))\n",
    "model.add(Dropout(0.5))\n",
    "model.add(Dense(15, activation='softmax')) # Don't use relu here!"
   ]
  },
  {
   "cell_type": "code",
   "execution_count": 35,
   "id": "ce24f416",
   "metadata": {},
   "outputs": [
    {
     "data": {
      "text/html": [
       "<pre style=\"white-space:pre;overflow-x:auto;line-height:normal;font-family:Menlo,'DejaVu Sans Mono',consolas,'Courier New',monospace\"><span style=\"font-weight: bold\">Model: \"sequential\"</span>\n",
       "</pre>\n"
      ],
      "text/plain": [
       "\u001b[1mModel: \"sequential\"\u001b[0m\n"
      ]
     },
     "metadata": {},
     "output_type": "display_data"
    },
    {
     "data": {
      "text/html": [
       "<pre style=\"white-space:pre;overflow-x:auto;line-height:normal;font-family:Menlo,'DejaVu Sans Mono',consolas,'Courier New',monospace\">┏━━━━━━━━━━━━━━━━━━━━━━━━━━━━━━━━━┳━━━━━━━━━━━━━━━━━━━━━━━━┳━━━━━━━━━━━━━━━┓\n",
       "┃<span style=\"font-weight: bold\"> Layer (type)                    </span>┃<span style=\"font-weight: bold\"> Output Shape           </span>┃<span style=\"font-weight: bold\">       Param # </span>┃\n",
       "┡━━━━━━━━━━━━━━━━━━━━━━━━━━━━━━━━━╇━━━━━━━━━━━━━━━━━━━━━━━━╇━━━━━━━━━━━━━━━┩\n",
       "│ lstm (<span style=\"color: #0087ff; text-decoration-color: #0087ff\">LSTM</span>)                     │ (<span style=\"color: #00d7ff; text-decoration-color: #00d7ff\">None</span>, <span style=\"color: #00af00; text-decoration-color: #00af00\">32</span>)             │         <span style=\"color: #00af00; text-decoration-color: #00af00\">5,376</span> │\n",
       "├─────────────────────────────────┼────────────────────────┼───────────────┤\n",
       "│ dropout (<span style=\"color: #0087ff; text-decoration-color: #0087ff\">Dropout</span>)               │ (<span style=\"color: #00d7ff; text-decoration-color: #00d7ff\">None</span>, <span style=\"color: #00af00; text-decoration-color: #00af00\">32</span>)             │             <span style=\"color: #00af00; text-decoration-color: #00af00\">0</span> │\n",
       "├─────────────────────────────────┼────────────────────────┼───────────────┤\n",
       "│ dense (<span style=\"color: #0087ff; text-decoration-color: #0087ff\">Dense</span>)                   │ (<span style=\"color: #00d7ff; text-decoration-color: #00d7ff\">None</span>, <span style=\"color: #00af00; text-decoration-color: #00af00\">15</span>)             │           <span style=\"color: #00af00; text-decoration-color: #00af00\">495</span> │\n",
       "└─────────────────────────────────┴────────────────────────┴───────────────┘\n",
       "</pre>\n"
      ],
      "text/plain": [
       "┏━━━━━━━━━━━━━━━━━━━━━━━━━━━━━━━━━┳━━━━━━━━━━━━━━━━━━━━━━━━┳━━━━━━━━━━━━━━━┓\n",
       "┃\u001b[1m \u001b[0m\u001b[1mLayer (type)                   \u001b[0m\u001b[1m \u001b[0m┃\u001b[1m \u001b[0m\u001b[1mOutput Shape          \u001b[0m\u001b[1m \u001b[0m┃\u001b[1m \u001b[0m\u001b[1m      Param #\u001b[0m\u001b[1m \u001b[0m┃\n",
       "┡━━━━━━━━━━━━━━━━━━━━━━━━━━━━━━━━━╇━━━━━━━━━━━━━━━━━━━━━━━━╇━━━━━━━━━━━━━━━┩\n",
       "│ lstm (\u001b[38;5;33mLSTM\u001b[0m)                     │ (\u001b[38;5;45mNone\u001b[0m, \u001b[38;5;34m32\u001b[0m)             │         \u001b[38;5;34m5,376\u001b[0m │\n",
       "├─────────────────────────────────┼────────────────────────┼───────────────┤\n",
       "│ dropout (\u001b[38;5;33mDropout\u001b[0m)               │ (\u001b[38;5;45mNone\u001b[0m, \u001b[38;5;34m32\u001b[0m)             │             \u001b[38;5;34m0\u001b[0m │\n",
       "├─────────────────────────────────┼────────────────────────┼───────────────┤\n",
       "│ dense (\u001b[38;5;33mDense\u001b[0m)                   │ (\u001b[38;5;45mNone\u001b[0m, \u001b[38;5;34m15\u001b[0m)             │           \u001b[38;5;34m495\u001b[0m │\n",
       "└─────────────────────────────────┴────────────────────────┴───────────────┘\n"
      ]
     },
     "metadata": {},
     "output_type": "display_data"
    },
    {
     "data": {
      "text/html": [
       "<pre style=\"white-space:pre;overflow-x:auto;line-height:normal;font-family:Menlo,'DejaVu Sans Mono',consolas,'Courier New',monospace\"><span style=\"font-weight: bold\"> Total params: </span><span style=\"color: #00af00; text-decoration-color: #00af00\">5,871</span> (22.93 KB)\n",
       "</pre>\n"
      ],
      "text/plain": [
       "\u001b[1m Total params: \u001b[0m\u001b[38;5;34m5,871\u001b[0m (22.93 KB)\n"
      ]
     },
     "metadata": {},
     "output_type": "display_data"
    },
    {
     "data": {
      "text/html": [
       "<pre style=\"white-space:pre;overflow-x:auto;line-height:normal;font-family:Menlo,'DejaVu Sans Mono',consolas,'Courier New',monospace\"><span style=\"font-weight: bold\"> Trainable params: </span><span style=\"color: #00af00; text-decoration-color: #00af00\">5,871</span> (22.93 KB)\n",
       "</pre>\n"
      ],
      "text/plain": [
       "\u001b[1m Trainable params: \u001b[0m\u001b[38;5;34m5,871\u001b[0m (22.93 KB)\n"
      ]
     },
     "metadata": {},
     "output_type": "display_data"
    },
    {
     "data": {
      "text/html": [
       "<pre style=\"white-space:pre;overflow-x:auto;line-height:normal;font-family:Menlo,'DejaVu Sans Mono',consolas,'Courier New',monospace\"><span style=\"font-weight: bold\"> Non-trainable params: </span><span style=\"color: #00af00; text-decoration-color: #00af00\">0</span> (0.00 B)\n",
       "</pre>\n"
      ],
      "text/plain": [
       "\u001b[1m Non-trainable params: \u001b[0m\u001b[38;5;34m0\u001b[0m (0.00 B)\n"
      ]
     },
     "metadata": {},
     "output_type": "display_data"
    }
   ],
   "source": [
    "model.summary()"
   ]
  },
  {
   "cell_type": "code",
   "execution_count": 36,
   "id": "b0117728",
   "metadata": {},
   "outputs": [],
   "source": [
    "model.compile(loss='categorical_crossentropy',\n",
    "              optimizer='rmsprop',\n",
    "              metrics=['accuracy'])"
   ]
  },
  {
   "cell_type": "code",
   "execution_count": 37,
   "id": "d9be391c",
   "metadata": {},
   "outputs": [
    {
     "name": "stdout",
     "output_type": "stream",
     "text": [
      "Epoch 1/30\n",
      "\u001b[1m1076/1076\u001b[0m \u001b[32m━━━━━━━━━━━━━━━━━━━━\u001b[0m\u001b[37m\u001b[0m \u001b[1m2s\u001b[0m 1ms/step - accuracy: 0.0526 - loss: 10.5317 - val_accuracy: 0.0324 - val_loss: 9.0341\n",
      "Epoch 2/30\n",
      "\u001b[1m1076/1076\u001b[0m \u001b[32m━━━━━━━━━━━━━━━━━━━━\u001b[0m\u001b[37m\u001b[0m \u001b[1m1s\u001b[0m 1ms/step - accuracy: 0.0892 - loss: 10.5263 - val_accuracy: 0.0335 - val_loss: 9.2174\n",
      "Epoch 3/30\n",
      "\u001b[1m1076/1076\u001b[0m \u001b[32m━━━━━━━━━━━━━━━━━━━━\u001b[0m\u001b[37m\u001b[0m \u001b[1m1s\u001b[0m 1ms/step - accuracy: 0.0941 - loss: 10.3690 - val_accuracy: 0.0328 - val_loss: 9.6002\n",
      "Epoch 4/30\n",
      "\u001b[1m1076/1076\u001b[0m \u001b[32m━━━━━━━━━━━━━━━━━━━━\u001b[0m\u001b[37m\u001b[0m \u001b[1m1s\u001b[0m 1ms/step - accuracy: 0.0870 - loss: 10.6659 - val_accuracy: 0.0368 - val_loss: 10.0036\n",
      "Epoch 5/30\n",
      "\u001b[1m1076/1076\u001b[0m \u001b[32m━━━━━━━━━━━━━━━━━━━━\u001b[0m\u001b[37m\u001b[0m \u001b[1m1s\u001b[0m 1ms/step - accuracy: 0.0868 - loss: 10.7717 - val_accuracy: 0.0288 - val_loss: 10.3952\n",
      "Epoch 6/30\n",
      "\u001b[1m1076/1076\u001b[0m \u001b[32m━━━━━━━━━━━━━━━━━━━━\u001b[0m\u001b[37m\u001b[0m \u001b[1m1s\u001b[0m 1ms/step - accuracy: 0.0886 - loss: 11.1240 - val_accuracy: 0.0462 - val_loss: 10.6843\n",
      "Epoch 7/30\n",
      "\u001b[1m1076/1076\u001b[0m \u001b[32m━━━━━━━━━━━━━━━━━━━━\u001b[0m\u001b[37m\u001b[0m \u001b[1m1s\u001b[0m 1ms/step - accuracy: 0.0878 - loss: 11.4209 - val_accuracy: 0.0329 - val_loss: 11.1359\n",
      "Epoch 8/30\n",
      "\u001b[1m1076/1076\u001b[0m \u001b[32m━━━━━━━━━━━━━━━━━━━━\u001b[0m\u001b[37m\u001b[0m \u001b[1m1s\u001b[0m 1ms/step - accuracy: 0.0833 - loss: 11.7986 - val_accuracy: 0.0265 - val_loss: 11.4735\n",
      "Epoch 9/30\n",
      "\u001b[1m1076/1076\u001b[0m \u001b[32m━━━━━━━━━━━━━━━━━━━━\u001b[0m\u001b[37m\u001b[0m \u001b[1m1s\u001b[0m 1ms/step - accuracy: 0.0774 - loss: 11.9165 - val_accuracy: 0.0411 - val_loss: 10.2435\n",
      "Epoch 10/30\n",
      "\u001b[1m1076/1076\u001b[0m \u001b[32m━━━━━━━━━━━━━━━━━━━━\u001b[0m\u001b[37m\u001b[0m \u001b[1m1s\u001b[0m 1ms/step - accuracy: 0.0749 - loss: 11.9462 - val_accuracy: 0.0410 - val_loss: 10.9340\n",
      "Epoch 11/30\n",
      "\u001b[1m1076/1076\u001b[0m \u001b[32m━━━━━━━━━━━━━━━━━━━━\u001b[0m\u001b[37m\u001b[0m \u001b[1m1s\u001b[0m 1ms/step - accuracy: 0.0746 - loss: 12.4481 - val_accuracy: 0.0423 - val_loss: 11.3020\n",
      "Epoch 12/30\n",
      "\u001b[1m1076/1076\u001b[0m \u001b[32m━━━━━━━━━━━━━━━━━━━━\u001b[0m\u001b[37m\u001b[0m \u001b[1m1s\u001b[0m 1ms/step - accuracy: 0.0723 - loss: 12.5053 - val_accuracy: 0.0415 - val_loss: 11.3788\n",
      "Epoch 13/30\n",
      "\u001b[1m1076/1076\u001b[0m \u001b[32m━━━━━━━━━━━━━━━━━━━━\u001b[0m\u001b[37m\u001b[0m \u001b[1m1s\u001b[0m 1ms/step - accuracy: 0.0664 - loss: 12.4767 - val_accuracy: 0.0523 - val_loss: 11.7550\n",
      "Epoch 14/30\n",
      "\u001b[1m1076/1076\u001b[0m \u001b[32m━━━━━━━━━━━━━━━━━━━━\u001b[0m\u001b[37m\u001b[0m \u001b[1m2s\u001b[0m 1ms/step - accuracy: 0.0703 - loss: 13.0581 - val_accuracy: 0.0270 - val_loss: 11.8276\n",
      "Epoch 15/30\n",
      "\u001b[1m1076/1076\u001b[0m \u001b[32m━━━━━━━━━━━━━━━━━━━━\u001b[0m\u001b[37m\u001b[0m \u001b[1m1s\u001b[0m 1ms/step - accuracy: 0.0680 - loss: 12.9240 - val_accuracy: 0.0397 - val_loss: 12.2902\n",
      "Epoch 16/30\n",
      "\u001b[1m1076/1076\u001b[0m \u001b[32m━━━━━━━━━━━━━━━━━━━━\u001b[0m\u001b[37m\u001b[0m \u001b[1m1s\u001b[0m 1ms/step - accuracy: 0.0617 - loss: 13.1051 - val_accuracy: 0.0333 - val_loss: 12.3707\n",
      "Epoch 17/30\n",
      "\u001b[1m1076/1076\u001b[0m \u001b[32m━━━━━━━━━━━━━━━━━━━━\u001b[0m\u001b[37m\u001b[0m \u001b[1m2s\u001b[0m 1ms/step - accuracy: 0.0624 - loss: 13.4330 - val_accuracy: 0.0234 - val_loss: 12.6693\n",
      "Epoch 18/30\n",
      "\u001b[1m1076/1076\u001b[0m \u001b[32m━━━━━━━━━━━━━━━━━━━━\u001b[0m\u001b[37m\u001b[0m \u001b[1m1s\u001b[0m 1ms/step - accuracy: 0.0594 - loss: 13.3632 - val_accuracy: 0.0425 - val_loss: 12.8004\n",
      "Epoch 19/30\n",
      "\u001b[1m1076/1076\u001b[0m \u001b[32m━━━━━━━━━━━━━━━━━━━━\u001b[0m\u001b[37m\u001b[0m \u001b[1m1s\u001b[0m 1ms/step - accuracy: 0.0569 - loss: 13.4699 - val_accuracy: 0.0265 - val_loss: 13.1101\n",
      "Epoch 20/30\n",
      "\u001b[1m1076/1076\u001b[0m \u001b[32m━━━━━━━━━━━━━━━━━━━━\u001b[0m\u001b[37m\u001b[0m \u001b[1m1s\u001b[0m 1ms/step - accuracy: 0.0570 - loss: 13.7644 - val_accuracy: 0.0432 - val_loss: 13.4770\n",
      "Epoch 21/30\n",
      "\u001b[1m1076/1076\u001b[0m \u001b[32m━━━━━━━━━━━━━━━━━━━━\u001b[0m\u001b[37m\u001b[0m \u001b[1m2s\u001b[0m 1ms/step - accuracy: 0.0558 - loss: 13.9390 - val_accuracy: 0.0408 - val_loss: 13.8188\n",
      "Epoch 22/30\n",
      "\u001b[1m1076/1076\u001b[0m \u001b[32m━━━━━━━━━━━━━━━━━━━━\u001b[0m\u001b[37m\u001b[0m \u001b[1m1s\u001b[0m 1ms/step - accuracy: 0.0541 - loss: 14.7169 - val_accuracy: 0.0239 - val_loss: 13.9944\n",
      "Epoch 23/30\n",
      "\u001b[1m1076/1076\u001b[0m \u001b[32m━━━━━━━━━━━━━━━━━━━━\u001b[0m\u001b[37m\u001b[0m \u001b[1m2s\u001b[0m 1ms/step - accuracy: 0.0565 - loss: 14.7135 - val_accuracy: 0.0239 - val_loss: 14.3357\n",
      "Epoch 24/30\n",
      "\u001b[1m1076/1076\u001b[0m \u001b[32m━━━━━━━━━━━━━━━━━━━━\u001b[0m\u001b[37m\u001b[0m \u001b[1m2s\u001b[0m 2ms/step - accuracy: 0.0485 - loss: 14.8557 - val_accuracy: 0.0486 - val_loss: 14.3439\n",
      "Epoch 25/30\n",
      "\u001b[1m1076/1076\u001b[0m \u001b[32m━━━━━━━━━━━━━━━━━━━━\u001b[0m\u001b[37m\u001b[0m \u001b[1m2s\u001b[0m 2ms/step - accuracy: 0.0485 - loss: 15.0890 - val_accuracy: 0.0392 - val_loss: 14.6114\n",
      "Epoch 26/30\n",
      "\u001b[1m1076/1076\u001b[0m \u001b[32m━━━━━━━━━━━━━━━━━━━━\u001b[0m\u001b[37m\u001b[0m \u001b[1m1s\u001b[0m 1ms/step - accuracy: 0.0509 - loss: 15.5979 - val_accuracy: 0.0364 - val_loss: 14.6755\n",
      "Epoch 27/30\n",
      "\u001b[1m1076/1076\u001b[0m \u001b[32m━━━━━━━━━━━━━━━━━━━━\u001b[0m\u001b[37m\u001b[0m \u001b[1m1s\u001b[0m 1ms/step - accuracy: 0.0477 - loss: 15.4054 - val_accuracy: 0.0308 - val_loss: 15.0539\n",
      "Epoch 28/30\n",
      "\u001b[1m1076/1076\u001b[0m \u001b[32m━━━━━━━━━━━━━━━━━━━━\u001b[0m\u001b[37m\u001b[0m \u001b[1m2s\u001b[0m 2ms/step - accuracy: 0.0557 - loss: 15.3781 - val_accuracy: 0.0484 - val_loss: 15.0959\n",
      "Epoch 29/30\n",
      "\u001b[1m1076/1076\u001b[0m \u001b[32m━━━━━━━━━━━━━━━━━━━━\u001b[0m\u001b[37m\u001b[0m \u001b[1m1s\u001b[0m 1ms/step - accuracy: 0.0508 - loss: 15.4596 - val_accuracy: 0.0289 - val_loss: 15.0708\n",
      "Epoch 30/30\n",
      "\u001b[1m1076/1076\u001b[0m \u001b[32m━━━━━━━━━━━━━━━━━━━━\u001b[0m\u001b[37m\u001b[0m \u001b[1m2s\u001b[0m 2ms/step - accuracy: 0.0510 - loss: 16.2386 - val_accuracy: 0.0251 - val_loss: 15.2413\n"
     ]
    },
    {
     "data": {
      "text/plain": [
       "<keras.src.callbacks.history.History at 0x30fe30620>"
      ]
     },
     "execution_count": 37,
     "metadata": {},
     "output_type": "execute_result"
    }
   ],
   "source": [
    "model.fit(X_train,\n",
    "          y_train,\n",
    "          batch_size=batch_size,\n",
    "          validation_data=(X_test, y_test),\n",
    "          epochs=epochs)"
   ]
  },
  {
   "cell_type": "code",
   "execution_count": 38,
   "id": "a8cc69f8",
   "metadata": {},
   "outputs": [],
   "source": [
    "# Change this to Weather true/false\n",
    "activities = {\n",
    "0: 'BASEL',\n",
    "1: 'BELGRADE',\n",
    "2: 'BUDAPEST',\n",
    "3: 'DEBILT',\n",
    "4: 'DUSSELDORF',\n",
    "5: 'HEATHROW',\n",
    "6: 'KASSEL',\n",
    "7: 'LJUBLJANA',\n",
    "8: 'MAASTRICHT',\n",
    "9: 'MADRID',\n",
    "10: 'MUNCHENB',\n",
    "11: 'OSLO',\n",
    "12: 'SONNBLICK',\n",
    "13: 'STOCKHOLM',\n",
    "14: 'VALENTIA'\n",
    "}"
   ]
  },
  {
   "cell_type": "code",
   "execution_count": 39,
   "id": "a70d328c",
   "metadata": {},
   "outputs": [],
   "source": [
    "def confusion_matrix(Y_true, Y_pred):\n",
    "    Y_true = pd.Series([activities[y] for y in np.argmax(Y_true, axis=1)])\n",
    "    Y_pred = pd.Series([activities[y] for y in np.argmax(Y_pred, axis=1)])\n",
    "\n",
    "    return pd.crosstab(Y_true, Y_pred, rownames=['True'], colnames=['Pred'])"
   ]
  },
  {
   "cell_type": "code",
   "execution_count": 40,
   "id": "26aadbad",
   "metadata": {},
   "outputs": [
    {
     "name": "stdout",
     "output_type": "stream",
     "text": [
      "\u001b[1m180/180\u001b[0m \u001b[32m━━━━━━━━━━━━━━━━━━━━\u001b[0m\u001b[37m\u001b[0m \u001b[1m0s\u001b[0m 815us/step\n",
      "Pred        MADRID  OSLO  VALENTIA\n",
      "True                              \n",
      "BASEL         1485    59      2163\n",
      "BELGRADE       965    35        81\n",
      "BUDAPEST       183     9         4\n",
      "DEBILT          89     0         0\n",
      "DUSSELDORF      32     1         0\n",
      "HEATHROW        96     3         8\n",
      "KASSEL          14     1         0\n",
      "LJUBLJANA       54     7         8\n",
      "MAASTRICHT       6     1         3\n",
      "MADRID         141    22       246\n",
      "MUNCHENB         5     2         3\n",
      "OSLO             5     0         2\n",
      "STOCKHOLM        1     0         0\n",
      "VALENTIA         0     1         3\n"
     ]
    }
   ],
   "source": [
    "# Evaluate\n",
    "print(confusion_matrix(y_test, model.predict(X_test)))"
   ]
  },
  {
   "cell_type": "code",
   "execution_count": 41,
   "id": "0e28f98b-bcb2-4294-bf5c-0d8b9110cc46",
   "metadata": {},
   "outputs": [
    {
     "name": "stdout",
     "output_type": "stream",
     "text": [
      "180/180 - 0s - 580us/step - accuracy: 0.0251 - loss: 15.2413\n",
      "Test Accuracy: 0.025095852091908455\n"
     ]
    }
   ],
   "source": [
    "loss, accuracy = model.evaluate(X_test, y_test, verbose=2)\n",
    "print(\"Test Accuracy:\", accuracy)"
   ]
  },
  {
   "cell_type": "code",
   "execution_count": null,
   "id": "faf127ca-5a9c-46c2-b485-e7f78d088bd1",
   "metadata": {},
   "outputs": [],
   "source": []
  }
 ],
 "metadata": {
  "kernelspec": {
   "display_name": "Python 3 (ipykernel)",
   "language": "python",
   "name": "python3"
  },
  "language_info": {
   "codemirror_mode": {
    "name": "ipython",
    "version": 3
   },
   "file_extension": ".py",
   "mimetype": "text/x-python",
   "name": "python",
   "nbconvert_exporter": "python",
   "pygments_lexer": "ipython3",
   "version": "3.12.4"
  }
 },
 "nbformat": 4,
 "nbformat_minor": 5
}
